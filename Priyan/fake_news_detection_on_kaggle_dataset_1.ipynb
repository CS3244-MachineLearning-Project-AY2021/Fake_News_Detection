{
  "nbformat": 4,
  "nbformat_minor": 0,
  "metadata": {
    "kernelspec": {
      "display_name": "Python 3",
      "language": "python",
      "name": "python3"
    },
    "language_info": {
      "codemirror_mode": {
        "name": "ipython",
        "version": 3
      },
      "file_extension": ".py",
      "mimetype": "text/x-python",
      "name": "python",
      "nbconvert_exporter": "python",
      "pygments_lexer": "ipython3",
      "version": "3.7.9"
    },
    "papermill": {
      "default_parameters": {},
      "duration": 323.300138,
      "end_time": "2021-03-21T09:20:09.864115",
      "environment_variables": {},
      "exception": null,
      "input_path": "__notebook__.ipynb",
      "output_path": "__notebook__.ipynb",
      "parameters": {},
      "start_time": "2021-03-21T09:14:46.563977",
      "version": "2.2.2"
    },
    "colab": {
      "name": "fake-news-detection-on-kaggle-dataset-1.ipynb",
      "provenance": []
    },
    "accelerator": "GPU"
  },
  "cells": [
    {
      "cell_type": "markdown",
      "metadata": {
        "papermill": {
          "duration": 0.023102,
          "end_time": "2021-03-21T09:14:53.038406",
          "exception": false,
          "start_time": "2021-03-21T09:14:53.015304",
          "status": "completed"
        },
        "tags": [],
        "id": "hBWckYJMbOoO"
      },
      "source": [
        "## Fake News Detection using Kaggle Dataset 1\n",
        "#### Dataset : URL, Headline, Body, Label \n",
        "\n",
        "## Content of the Notebook.\n",
        "* ### Data preprocessing\n",
        "* ### Text preprocessing\n",
        "* ### Model Selection & Implementation\n",
        "\n",
        "\n"
      ]
    },
    {
      "cell_type": "code",
      "metadata": {
        "_cell_guid": "b1076dfc-b9ad-4769-8c92-a6c4dae69d19",
        "_uuid": "8f2839f25d086af736a60e9eeb907d3b93b6e0e5",
        "execution": {
          "iopub.execute_input": "2021-03-21T09:14:53.091075Z",
          "iopub.status.busy": "2021-03-21T09:14:53.090047Z",
          "iopub.status.idle": "2021-03-21T09:14:53.093341Z",
          "shell.execute_reply": "2021-03-21T09:14:53.093832Z"
        },
        "papermill": {
          "duration": 0.033501,
          "end_time": "2021-03-21T09:14:53.094187",
          "exception": false,
          "start_time": "2021-03-21T09:14:53.060686",
          "status": "completed"
        },
        "tags": [],
        "id": "LYTbKs19bOoT"
      },
      "source": [
        "import pandas as pd"
      ],
      "execution_count": 23,
      "outputs": []
    },
    {
      "cell_type": "code",
      "metadata": {
        "execution": {
          "iopub.execute_input": "2021-03-21T09:14:53.144025Z",
          "iopub.status.busy": "2021-03-21T09:14:53.143358Z",
          "iopub.status.idle": "2021-03-21T09:14:53.609658Z",
          "shell.execute_reply": "2021-03-21T09:14:53.610248Z"
        },
        "papermill": {
          "duration": 0.49401,
          "end_time": "2021-03-21T09:14:53.610445",
          "exception": false,
          "start_time": "2021-03-21T09:14:53.116435",
          "status": "completed"
        },
        "tags": [],
        "colab": {
          "resources": {
            "http://localhost:8080/nbextensions/google.colab/files.js": {
              "data": "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",
              "ok": true,
              "headers": [
                [
                  "content-type",
                  "application/javascript"
                ]
              ],
              "status": 200,
              "status_text": ""
            }
          },
          "base_uri": "https://localhost:8080/",
          "height": 55
        },
        "id": "x3To54LNbOoU",
        "outputId": "cfb995bb-53e8-4190-ff89-25663dddb1fa"
      },
      "source": [
        "# from google.colab import files\n",
        "# files.upload()\n"
      ],
      "execution_count": 24,
      "outputs": [
        {
          "output_type": "display_data",
          "data": {
            "text/html": [
              "\n",
              "     <input type=\"file\" id=\"files-35455e60-3c8e-4e9b-be66-0d4abd99c917\" name=\"files[]\" multiple disabled\n",
              "        style=\"border:none\" />\n",
              "     <output id=\"result-35455e60-3c8e-4e9b-be66-0d4abd99c917\">\n",
              "      Upload widget is only available when the cell has been executed in the\n",
              "      current browser session. Please rerun this cell to enable.\n",
              "      </output>\n",
              "      <script src=\"/nbextensions/google.colab/files.js\"></script> "
            ],
            "text/plain": [
              "<IPython.core.display.HTML object>"
            ]
          },
          "metadata": {
            "tags": []
          }
        },
        {
          "output_type": "execute_result",
          "data": {
            "text/plain": [
              "{}"
            ]
          },
          "metadata": {
            "tags": []
          },
          "execution_count": 24
        }
      ]
    },
    {
      "cell_type": "code",
      "metadata": {
        "execution": {
          "iopub.execute_input": "2021-03-21T09:14:53.658342Z",
          "iopub.status.busy": "2021-03-21T09:14:53.657623Z",
          "iopub.status.idle": "2021-03-21T09:14:53.691725Z",
          "shell.execute_reply": "2021-03-21T09:14:53.692296Z"
        },
        "papermill": {
          "duration": 0.059719,
          "end_time": "2021-03-21T09:14:53.692481",
          "exception": false,
          "start_time": "2021-03-21T09:14:53.632762",
          "status": "completed"
        },
        "tags": [],
        "colab": {
          "base_uri": "https://localhost:8080/",
          "height": 204
        },
        "id": "e6e9f2DRbOoU",
        "outputId": "4f383103-2248-4b62-e8d0-313184320092"
      },
      "source": [
        "df=pd.read_csv('../Datasets/Kaggle/Dataset_1/data.csv')\n",
        "df.head()"
      ],
      "execution_count": 25,
      "outputs": [
        {
          "output_type": "execute_result",
          "data": {
            "text/html": [
              "<div>\n",
              "<style scoped>\n",
              "    .dataframe tbody tr th:only-of-type {\n",
              "        vertical-align: middle;\n",
              "    }\n",
              "\n",
              "    .dataframe tbody tr th {\n",
              "        vertical-align: top;\n",
              "    }\n",
              "\n",
              "    .dataframe thead th {\n",
              "        text-align: right;\n",
              "    }\n",
              "</style>\n",
              "<table border=\"1\" class=\"dataframe\">\n",
              "  <thead>\n",
              "    <tr style=\"text-align: right;\">\n",
              "      <th></th>\n",
              "      <th>URLs</th>\n",
              "      <th>Headline</th>\n",
              "      <th>Body</th>\n",
              "      <th>Label</th>\n",
              "    </tr>\n",
              "  </thead>\n",
              "  <tbody>\n",
              "    <tr>\n",
              "      <th>0</th>\n",
              "      <td>http://www.bbc.com/news/world-us-canada-414191...</td>\n",
              "      <td>Four ways Bob Corker skewered Donald Trump</td>\n",
              "      <td>Image copyright Getty Images\\nOn Sunday mornin...</td>\n",
              "      <td>1</td>\n",
              "    </tr>\n",
              "    <tr>\n",
              "      <th>1</th>\n",
              "      <td>https://www.reuters.com/article/us-filmfestiva...</td>\n",
              "      <td>Linklater's war veteran comedy speaks to moder...</td>\n",
              "      <td>LONDON (Reuters) - “Last Flag Flying”, a comed...</td>\n",
              "      <td>1</td>\n",
              "    </tr>\n",
              "    <tr>\n",
              "      <th>2</th>\n",
              "      <td>https://www.nytimes.com/2017/10/09/us/politics...</td>\n",
              "      <td>Trump’s Fight With Corker Jeopardizes His Legi...</td>\n",
              "      <td>The feud broke into public view last week when...</td>\n",
              "      <td>1</td>\n",
              "    </tr>\n",
              "    <tr>\n",
              "      <th>3</th>\n",
              "      <td>https://www.reuters.com/article/us-mexico-oil-...</td>\n",
              "      <td>Egypt's Cheiron wins tie-up with Pemex for Mex...</td>\n",
              "      <td>MEXICO CITY (Reuters) - Egypt’s Cheiron Holdin...</td>\n",
              "      <td>1</td>\n",
              "    </tr>\n",
              "    <tr>\n",
              "      <th>4</th>\n",
              "      <td>http://www.cnn.com/videos/cnnmoney/2017/10/08/...</td>\n",
              "      <td>Jason Aldean opens 'SNL' with Vegas tribute</td>\n",
              "      <td>Country singer Jason Aldean, who was performin...</td>\n",
              "      <td>1</td>\n",
              "    </tr>\n",
              "  </tbody>\n",
              "</table>\n",
              "</div>"
            ],
            "text/plain": [
              "                                                URLs  ... Label\n",
              "0  http://www.bbc.com/news/world-us-canada-414191...  ...     1\n",
              "1  https://www.reuters.com/article/us-filmfestiva...  ...     1\n",
              "2  https://www.nytimes.com/2017/10/09/us/politics...  ...     1\n",
              "3  https://www.reuters.com/article/us-mexico-oil-...  ...     1\n",
              "4  http://www.cnn.com/videos/cnnmoney/2017/10/08/...  ...     1\n",
              "\n",
              "[5 rows x 4 columns]"
            ]
          },
          "metadata": {
            "tags": []
          },
          "execution_count": 25
        }
      ]
    },
    {
      "cell_type": "markdown",
      "metadata": {
        "papermill": {
          "duration": 0.02512,
          "end_time": "2021-03-21T09:14:53.741250",
          "exception": false,
          "start_time": "2021-03-21T09:14:53.716130",
          "status": "completed"
        },
        "tags": [],
        "id": "rhy6vO8ybOoV"
      },
      "source": [
        "# Data Preprocessing"
      ]
    },
    {
      "cell_type": "code",
      "metadata": {
        "execution": {
          "iopub.execute_input": "2021-03-21T09:14:53.792990Z",
          "iopub.status.busy": "2021-03-21T09:14:53.792321Z",
          "iopub.status.idle": "2021-03-21T09:14:53.794802Z",
          "shell.execute_reply": "2021-03-21T09:14:53.795358Z"
        },
        "papermill": {
          "duration": 0.031717,
          "end_time": "2021-03-21T09:14:53.795568",
          "exception": false,
          "start_time": "2021-03-21T09:14:53.763851",
          "status": "completed"
        },
        "tags": [],
        "id": "Ov2cBPUCbOoV"
      },
      "source": [
        "## Get the Independent Features\n",
        "X=df.drop('Label',axis=1)"
      ],
      "execution_count": 26,
      "outputs": []
    },
    {
      "cell_type": "code",
      "metadata": {
        "execution": {
          "iopub.execute_input": "2021-03-21T09:14:53.845546Z",
          "iopub.status.busy": "2021-03-21T09:14:53.844817Z",
          "iopub.status.idle": "2021-03-21T09:14:53.857200Z",
          "shell.execute_reply": "2021-03-21T09:14:53.857727Z"
        },
        "papermill": {
          "duration": 0.03906,
          "end_time": "2021-03-21T09:14:53.857927",
          "exception": false,
          "start_time": "2021-03-21T09:14:53.818867",
          "status": "completed"
        },
        "tags": [],
        "colab": {
          "base_uri": "https://localhost:8080/",
          "height": 204
        },
        "id": "NVPivcvMbOoV",
        "outputId": "ee33f0d8-6687-4862-e099-b8c99ebeddad"
      },
      "source": [
        "X.head()"
      ],
      "execution_count": 27,
      "outputs": [
        {
          "output_type": "execute_result",
          "data": {
            "text/html": [
              "<div>\n",
              "<style scoped>\n",
              "    .dataframe tbody tr th:only-of-type {\n",
              "        vertical-align: middle;\n",
              "    }\n",
              "\n",
              "    .dataframe tbody tr th {\n",
              "        vertical-align: top;\n",
              "    }\n",
              "\n",
              "    .dataframe thead th {\n",
              "        text-align: right;\n",
              "    }\n",
              "</style>\n",
              "<table border=\"1\" class=\"dataframe\">\n",
              "  <thead>\n",
              "    <tr style=\"text-align: right;\">\n",
              "      <th></th>\n",
              "      <th>URLs</th>\n",
              "      <th>Headline</th>\n",
              "      <th>Body</th>\n",
              "    </tr>\n",
              "  </thead>\n",
              "  <tbody>\n",
              "    <tr>\n",
              "      <th>0</th>\n",
              "      <td>http://www.bbc.com/news/world-us-canada-414191...</td>\n",
              "      <td>Four ways Bob Corker skewered Donald Trump</td>\n",
              "      <td>Image copyright Getty Images\\nOn Sunday mornin...</td>\n",
              "    </tr>\n",
              "    <tr>\n",
              "      <th>1</th>\n",
              "      <td>https://www.reuters.com/article/us-filmfestiva...</td>\n",
              "      <td>Linklater's war veteran comedy speaks to moder...</td>\n",
              "      <td>LONDON (Reuters) - “Last Flag Flying”, a comed...</td>\n",
              "    </tr>\n",
              "    <tr>\n",
              "      <th>2</th>\n",
              "      <td>https://www.nytimes.com/2017/10/09/us/politics...</td>\n",
              "      <td>Trump’s Fight With Corker Jeopardizes His Legi...</td>\n",
              "      <td>The feud broke into public view last week when...</td>\n",
              "    </tr>\n",
              "    <tr>\n",
              "      <th>3</th>\n",
              "      <td>https://www.reuters.com/article/us-mexico-oil-...</td>\n",
              "      <td>Egypt's Cheiron wins tie-up with Pemex for Mex...</td>\n",
              "      <td>MEXICO CITY (Reuters) - Egypt’s Cheiron Holdin...</td>\n",
              "    </tr>\n",
              "    <tr>\n",
              "      <th>4</th>\n",
              "      <td>http://www.cnn.com/videos/cnnmoney/2017/10/08/...</td>\n",
              "      <td>Jason Aldean opens 'SNL' with Vegas tribute</td>\n",
              "      <td>Country singer Jason Aldean, who was performin...</td>\n",
              "    </tr>\n",
              "  </tbody>\n",
              "</table>\n",
              "</div>"
            ],
            "text/plain": [
              "                                                URLs  ...                                               Body\n",
              "0  http://www.bbc.com/news/world-us-canada-414191...  ...  Image copyright Getty Images\\nOn Sunday mornin...\n",
              "1  https://www.reuters.com/article/us-filmfestiva...  ...  LONDON (Reuters) - “Last Flag Flying”, a comed...\n",
              "2  https://www.nytimes.com/2017/10/09/us/politics...  ...  The feud broke into public view last week when...\n",
              "3  https://www.reuters.com/article/us-mexico-oil-...  ...  MEXICO CITY (Reuters) - Egypt’s Cheiron Holdin...\n",
              "4  http://www.cnn.com/videos/cnnmoney/2017/10/08/...  ...  Country singer Jason Aldean, who was performin...\n",
              "\n",
              "[5 rows x 3 columns]"
            ]
          },
          "metadata": {
            "tags": []
          },
          "execution_count": 27
        }
      ]
    },
    {
      "cell_type": "code",
      "metadata": {
        "execution": {
          "iopub.execute_input": "2021-03-21T09:14:53.911798Z",
          "iopub.status.busy": "2021-03-21T09:14:53.910877Z",
          "iopub.status.idle": "2021-03-21T09:14:53.914667Z",
          "shell.execute_reply": "2021-03-21T09:14:53.914120Z"
        },
        "papermill": {
          "duration": 0.032649,
          "end_time": "2021-03-21T09:14:53.914825",
          "exception": false,
          "start_time": "2021-03-21T09:14:53.882176",
          "status": "completed"
        },
        "tags": [],
        "id": "HhotWkvKbOoW"
      },
      "source": [
        "## Get the Dependent features\n",
        "y=df['Label']"
      ],
      "execution_count": 28,
      "outputs": []
    },
    {
      "cell_type": "code",
      "metadata": {
        "execution": {
          "iopub.execute_input": "2021-03-21T09:14:53.970500Z",
          "iopub.status.busy": "2021-03-21T09:14:53.969730Z",
          "iopub.status.idle": "2021-03-21T09:14:53.973685Z",
          "shell.execute_reply": "2021-03-21T09:14:53.974222Z"
        },
        "papermill": {
          "duration": 0.035234,
          "end_time": "2021-03-21T09:14:53.974401",
          "exception": false,
          "start_time": "2021-03-21T09:14:53.939167",
          "status": "completed"
        },
        "tags": [],
        "colab": {
          "base_uri": "https://localhost:8080/"
        },
        "id": "puIBsNxQbOoW",
        "outputId": "c407e6f0-dc02-4776-ea7d-3b45a3b22d03"
      },
      "source": [
        "y.head()"
      ],
      "execution_count": 29,
      "outputs": [
        {
          "output_type": "execute_result",
          "data": {
            "text/plain": [
              "0    1\n",
              "1    1\n",
              "2    1\n",
              "3    1\n",
              "4    1\n",
              "Name: Label, dtype: int64"
            ]
          },
          "metadata": {
            "tags": []
          },
          "execution_count": 29
        }
      ]
    },
    {
      "cell_type": "code",
      "metadata": {
        "execution": {
          "iopub.execute_input": "2021-03-21T09:14:54.028842Z",
          "iopub.status.busy": "2021-03-21T09:14:54.027842Z",
          "iopub.status.idle": "2021-03-21T09:14:54.035699Z",
          "shell.execute_reply": "2021-03-21T09:14:54.034795Z"
        },
        "papermill": {
          "duration": 0.037244,
          "end_time": "2021-03-21T09:14:54.035878",
          "exception": false,
          "start_time": "2021-03-21T09:14:53.998634",
          "status": "completed"
        },
        "tags": [],
        "colab": {
          "base_uri": "https://localhost:8080/"
        },
        "id": "-8ewWzPFbOoW",
        "outputId": "c7df64f4-1bcb-4d6a-cc81-349e93a7c7be"
      },
      "source": [
        "df.shape"
      ],
      "execution_count": 30,
      "outputs": [
        {
          "output_type": "execute_result",
          "data": {
            "text/plain": [
              "(4009, 4)"
            ]
          },
          "metadata": {
            "tags": []
          },
          "execution_count": 30
        }
      ]
    },
    {
      "cell_type": "code",
      "metadata": {
        "execution": {
          "iopub.execute_input": "2021-03-21T09:14:54.092996Z",
          "iopub.status.busy": "2021-03-21T09:14:54.092128Z",
          "iopub.status.idle": "2021-03-21T09:14:55.244612Z",
          "shell.execute_reply": "2021-03-21T09:14:55.245089Z"
        },
        "papermill": {
          "duration": 1.184514,
          "end_time": "2021-03-21T09:14:55.245334",
          "exception": false,
          "start_time": "2021-03-21T09:14:54.060820",
          "status": "completed"
        },
        "tags": [],
        "id": "l2B4cj4ebOoX"
      },
      "source": [
        "from sklearn.feature_extraction.text import CountVectorizer, TfidfVectorizer"
      ],
      "execution_count": 31,
      "outputs": []
    },
    {
      "cell_type": "code",
      "metadata": {
        "execution": {
          "iopub.execute_input": "2021-03-21T09:14:55.312935Z",
          "iopub.status.busy": "2021-03-21T09:14:55.311961Z",
          "iopub.status.idle": "2021-03-21T09:14:55.341328Z",
          "shell.execute_reply": "2021-03-21T09:14:55.342035Z"
        },
        "papermill": {
          "duration": 0.069392,
          "end_time": "2021-03-21T09:14:55.342307",
          "exception": false,
          "start_time": "2021-03-21T09:14:55.272915",
          "status": "completed"
        },
        "tags": [],
        "id": "NmZGBtXGbOoX"
      },
      "source": [
        "df=df.dropna()#dropping the Nan values"
      ],
      "execution_count": 32,
      "outputs": []
    },
    {
      "cell_type": "code",
      "metadata": {
        "execution": {
          "iopub.execute_input": "2021-03-21T09:14:55.407153Z",
          "iopub.status.busy": "2021-03-21T09:14:55.406068Z",
          "iopub.status.idle": "2021-03-21T09:14:55.412060Z",
          "shell.execute_reply": "2021-03-21T09:14:55.412822Z"
        },
        "papermill": {
          "duration": 0.039395,
          "end_time": "2021-03-21T09:14:55.413060",
          "exception": false,
          "start_time": "2021-03-21T09:14:55.373665",
          "status": "completed"
        },
        "tags": [],
        "colab": {
          "base_uri": "https://localhost:8080/"
        },
        "id": "6Ks0F5qGbOoX",
        "outputId": "253e28b5-7b58-4b77-a98a-3243a7fdccb3"
      },
      "source": [
        "df.shape"
      ],
      "execution_count": 33,
      "outputs": [
        {
          "output_type": "execute_result",
          "data": {
            "text/plain": [
              "(3988, 4)"
            ]
          },
          "metadata": {
            "tags": []
          },
          "execution_count": 33
        }
      ]
    },
    {
      "cell_type": "code",
      "metadata": {
        "execution": {
          "iopub.execute_input": "2021-03-21T09:14:55.475327Z",
          "iopub.status.busy": "2021-03-21T09:14:55.474232Z",
          "iopub.status.idle": "2021-03-21T09:14:55.480376Z",
          "shell.execute_reply": "2021-03-21T09:14:55.480928Z"
        },
        "papermill": {
          "duration": 0.037924,
          "end_time": "2021-03-21T09:14:55.481165",
          "exception": false,
          "start_time": "2021-03-21T09:14:55.443241",
          "status": "completed"
        },
        "tags": [],
        "id": "cBMlEGIPbOoX"
      },
      "source": [
        "messages=df.copy()\n"
      ],
      "execution_count": 34,
      "outputs": []
    },
    {
      "cell_type": "code",
      "metadata": {
        "execution": {
          "iopub.execute_input": "2021-03-21T09:14:55.542794Z",
          "iopub.status.busy": "2021-03-21T09:14:55.542133Z",
          "iopub.status.idle": "2021-03-21T09:14:55.546149Z",
          "shell.execute_reply": "2021-03-21T09:14:55.545467Z"
        },
        "papermill": {
          "duration": 0.037392,
          "end_time": "2021-03-21T09:14:55.546308",
          "exception": false,
          "start_time": "2021-03-21T09:14:55.508916",
          "status": "completed"
        },
        "tags": [],
        "id": "4O6bl69ibOoX"
      },
      "source": [
        "messages.reset_index(inplace=True)## reseting the index after eliminating nan values"
      ],
      "execution_count": 35,
      "outputs": []
    },
    {
      "cell_type": "code",
      "metadata": {
        "execution": {
          "iopub.execute_input": "2021-03-21T09:14:55.602146Z",
          "iopub.status.busy": "2021-03-21T09:14:55.601406Z",
          "iopub.status.idle": "2021-03-21T09:14:55.615528Z",
          "shell.execute_reply": "2021-03-21T09:14:55.616050Z"
        },
        "papermill": {
          "duration": 0.043538,
          "end_time": "2021-03-21T09:14:55.616260",
          "exception": false,
          "start_time": "2021-03-21T09:14:55.572722",
          "status": "completed"
        },
        "tags": [],
        "colab": {
          "base_uri": "https://localhost:8080/",
          "height": 359
        },
        "id": "S2MueGVxbOoY",
        "outputId": "297dba64-c6b8-4459-a73c-b6dceffac2e3"
      },
      "source": [
        "messages.head(10)"
      ],
      "execution_count": 36,
      "outputs": [
        {
          "output_type": "execute_result",
          "data": {
            "text/html": [
              "<div>\n",
              "<style scoped>\n",
              "    .dataframe tbody tr th:only-of-type {\n",
              "        vertical-align: middle;\n",
              "    }\n",
              "\n",
              "    .dataframe tbody tr th {\n",
              "        vertical-align: top;\n",
              "    }\n",
              "\n",
              "    .dataframe thead th {\n",
              "        text-align: right;\n",
              "    }\n",
              "</style>\n",
              "<table border=\"1\" class=\"dataframe\">\n",
              "  <thead>\n",
              "    <tr style=\"text-align: right;\">\n",
              "      <th></th>\n",
              "      <th>index</th>\n",
              "      <th>URLs</th>\n",
              "      <th>Headline</th>\n",
              "      <th>Body</th>\n",
              "      <th>Label</th>\n",
              "    </tr>\n",
              "  </thead>\n",
              "  <tbody>\n",
              "    <tr>\n",
              "      <th>0</th>\n",
              "      <td>0</td>\n",
              "      <td>http://www.bbc.com/news/world-us-canada-414191...</td>\n",
              "      <td>Four ways Bob Corker skewered Donald Trump</td>\n",
              "      <td>Image copyright Getty Images\\nOn Sunday mornin...</td>\n",
              "      <td>1</td>\n",
              "    </tr>\n",
              "    <tr>\n",
              "      <th>1</th>\n",
              "      <td>1</td>\n",
              "      <td>https://www.reuters.com/article/us-filmfestiva...</td>\n",
              "      <td>Linklater's war veteran comedy speaks to moder...</td>\n",
              "      <td>LONDON (Reuters) - “Last Flag Flying”, a comed...</td>\n",
              "      <td>1</td>\n",
              "    </tr>\n",
              "    <tr>\n",
              "      <th>2</th>\n",
              "      <td>2</td>\n",
              "      <td>https://www.nytimes.com/2017/10/09/us/politics...</td>\n",
              "      <td>Trump’s Fight With Corker Jeopardizes His Legi...</td>\n",
              "      <td>The feud broke into public view last week when...</td>\n",
              "      <td>1</td>\n",
              "    </tr>\n",
              "    <tr>\n",
              "      <th>3</th>\n",
              "      <td>3</td>\n",
              "      <td>https://www.reuters.com/article/us-mexico-oil-...</td>\n",
              "      <td>Egypt's Cheiron wins tie-up with Pemex for Mex...</td>\n",
              "      <td>MEXICO CITY (Reuters) - Egypt’s Cheiron Holdin...</td>\n",
              "      <td>1</td>\n",
              "    </tr>\n",
              "    <tr>\n",
              "      <th>4</th>\n",
              "      <td>4</td>\n",
              "      <td>http://www.cnn.com/videos/cnnmoney/2017/10/08/...</td>\n",
              "      <td>Jason Aldean opens 'SNL' with Vegas tribute</td>\n",
              "      <td>Country singer Jason Aldean, who was performin...</td>\n",
              "      <td>1</td>\n",
              "    </tr>\n",
              "    <tr>\n",
              "      <th>5</th>\n",
              "      <td>5</td>\n",
              "      <td>http://beforeitsnews.com/sports/2017/09/jetnat...</td>\n",
              "      <td>JetNation FanDuel League; Week 4</td>\n",
              "      <td>JetNation FanDuel League; Week 4\\n% of readers...</td>\n",
              "      <td>0</td>\n",
              "    </tr>\n",
              "    <tr>\n",
              "      <th>6</th>\n",
              "      <td>6</td>\n",
              "      <td>https://www.nytimes.com/2017/10/10/us/politics...</td>\n",
              "      <td>Kansas Tried a Tax Plan Similar to Trump’s. It...</td>\n",
              "      <td>In 2012, Kansas lawmakers, led by Gov. Sam Bro...</td>\n",
              "      <td>1</td>\n",
              "    </tr>\n",
              "    <tr>\n",
              "      <th>7</th>\n",
              "      <td>7</td>\n",
              "      <td>https://www.reuters.com/article/us-india-cenba...</td>\n",
              "      <td>India RBI chief: growth important, but not at ...</td>\n",
              "      <td>The Reserve Bank of India (RBI) Governor Urjit...</td>\n",
              "      <td>1</td>\n",
              "    </tr>\n",
              "    <tr>\n",
              "      <th>8</th>\n",
              "      <td>8</td>\n",
              "      <td>https://www.reuters.com/article/us-climatechan...</td>\n",
              "      <td>EPA chief to sign rule on Clean Power Plan exi...</td>\n",
              "      <td>Scott Pruitt, Administrator of the U.S. Enviro...</td>\n",
              "      <td>1</td>\n",
              "    </tr>\n",
              "    <tr>\n",
              "      <th>9</th>\n",
              "      <td>9</td>\n",
              "      <td>https://www.reuters.com/article/us-air-berlin-...</td>\n",
              "      <td>Talks on sale of Air Berlin planes to easyJet ...</td>\n",
              "      <td>FILE PHOTO - An Air Berlin sign is seen at an ...</td>\n",
              "      <td>1</td>\n",
              "    </tr>\n",
              "  </tbody>\n",
              "</table>\n",
              "</div>"
            ],
            "text/plain": [
              "   index  ... Label\n",
              "0      0  ...     1\n",
              "1      1  ...     1\n",
              "2      2  ...     1\n",
              "3      3  ...     1\n",
              "4      4  ...     1\n",
              "5      5  ...     0\n",
              "6      6  ...     1\n",
              "7      7  ...     1\n",
              "8      8  ...     1\n",
              "9      9  ...     1\n",
              "\n",
              "[10 rows x 5 columns]"
            ]
          },
          "metadata": {
            "tags": []
          },
          "execution_count": 36
        }
      ]
    },
    {
      "cell_type": "code",
      "metadata": {
        "execution": {
          "iopub.execute_input": "2021-03-21T09:14:55.674540Z",
          "iopub.status.busy": "2021-03-21T09:14:55.673844Z",
          "iopub.status.idle": "2021-03-21T09:14:55.678506Z",
          "shell.execute_reply": "2021-03-21T09:14:55.677830Z"
        },
        "papermill": {
          "duration": 0.036177,
          "end_time": "2021-03-21T09:14:55.678658",
          "exception": false,
          "start_time": "2021-03-21T09:14:55.642481",
          "status": "completed"
        },
        "tags": [],
        "colab": {
          "base_uri": "https://localhost:8080/",
          "height": 103
        },
        "id": "3xZ474e9bOoY",
        "outputId": "1732e318-4597-4977-9e2c-1382ef1a6eb2"
      },
      "source": [
        "messages['Body'][6]"
      ],
      "execution_count": 37,
      "outputs": [
        {
          "output_type": "execute_result",
          "data": {
            "application/vnd.google.colaboratory.intrinsic+json": {
              "type": "string"
            },
            "text/plain": [
              "\"In 2012, Kansas lawmakers, led by Gov. Sam Brownback, a Republican, enacted a tax cut that eliminated state income taxes entirely for pass-through entities — such as sole proprietorships and limited liability partnerships — which are taxed at the owner’s individual income tax rate. The law also lowered individual income tax rates, cutting the top rate to 4.9 percent from 6.4 percent.\\nThe tax package reduced state revenue by nearly $700 million a year, a drop of about 8 percent, from 2013 through 2016, according to the Kansas Legislative Research Department, forcing officials to shorten school calendars, delay highway repairs and reduce aid to the poor. Research suggests the package did not stimulate the economy, certainly not enough to pay for the tax cut. This year, legislators passed a bill to largely rescind the law, saying it had not worked as intended.\\n“It caused a lot of budget instability,” said State Senator Jim Denning, a Republican who led the effort to repeal the pass-through exemption this year. Mr. Denning, who earns pass-through income from his interest in a commercial real estate firm, said he had personally benefited from the exemption, but the state’s economy had not.\\nThe pass-through exemption was responsible for $200 million to $300 million of that annual shortfall, according to budget researchers at the Tax Foundation in Washington. Between 2012 and 2015, the total number of Kansans claiming pass-through income grew 20 percent, to about 393,000 from about 330,000. A team of researchers from the University of South Carolina and other institutions who studied the impact of the tax change found the top 2 percent of Kansas earners reaped the largest gains from shifting income to pass-throughs.\\nParticipation at the federal level could be far more dramatic — with tax benefits dwarfing those enjoyed in Kansas. The top income tax rate in Kansas before the 2012 law was 6.4 percent. This year, it will be 5.2 percent, growing to 5.7 percent in 2018. The top federal rate is 39.6 percent, offering a significantly bigger incentive for tax avoidance if pass-throughs are taxed at 25 percent. Already, 70 percent of pass-through income flows to the top 1 percent of American income earners, Owen Zidar, an economist at the University of Chicago Booth School of Business, has found.\\nRepublicans are considering lowering the top individual tax rate to 35 percent, but Mr. Trump has said he would maintain a higher rate on top earners in an effort to keep the income tax structure as progressive as it is now.\\nPhoto\\n“The experience of Kansas shows that lawmakers should be cautious about taxing income from pass-through businesses at different rates than wages and salaries,” said Scott Greenberg, a senior analyst at the nonpartisan Tax Foundation in Washington, which models tax proposals’ likely effects on the economy. A pass-through cut, he added, would probably produce less growth than many other, less expensive tax policy changes.\\nAdvertisement Continue reading the main story\\nRepublicans say they will erect guardrails to prevent workers from reclassifying themselves as contractors to exploit the lower rate. But their plan does not provide specifics, and tax experts say it will be difficult to restrict high-income individuals from diverting income through a pass-through.\\nPass-throughs have long been favored by small businesses such as dental offices and family farms, but their use has expanded to include many financial and real estate firms. Mr. Trump’s business empire is largely run through hundreds of pass-through companies. The structure is also popular among consultants and other high-earning independent contractors; former President Bill Clinton, for example, receives payment for speeches through a pass-through entity.\\nNewsletter Sign Up Continue reading the main story Please verify you're not a robot by clicking the box. Invalid email address. Please re-enter. You must select a newsletter to subscribe to. Sign Up You agree to receive occasional updates and special offers for The New York Times's products and services. Thank you for subscribing. An error has occurred. Please try again later. View all New York Times newsletters.\\nUsing a random sample of state tax returns, Jason DeBacker of the University of South Carolina Darla Moore School of Business, Bradley Heim and Justin M. Ross of Indiana University, and Shanthi Ramnath of the Treasury Department isolated the number of workers in Kansas who routed income through pass-through entities after the law passed, even though they continued to earn that income from the same source. They found more than 2,200 Kansans had done so, about 0.2 percent of workers in the state.\\nIf the rest of the country saw the same reclassification trend as Kansas, Mr. DeBacker said, nearly 250,000 Americans would use the technique to lower their tax bills. He cautioned that the number could be larger, because the gap between the top tax rates on labor income and pass-through income would be substantially wider than it was in Kansas, and because tax professionals would have greater incentive to specialize in helping wage earners form pass-throughs.\\n“I’m not going to go through the hassle of reclassifying myself just to save $10,” said Joseph Rosenberg, a senior research associate at the Tax Policy Center in Washington. “I’m only going to do it if there’s a payoff, and the 10 percentage points would make a difference for me.”\\nMr. Rosenberg and two colleagues estimate that such shifts could reduce federal revenues by at least $41 billion a year. Most of that, $39 billion, would come from existing pass-through owners paying lower taxes. The rest would come from wealthy individuals routing income through pass-throughs to minimize taxes.\\nDefenders of the Kansas experiment say that the pass-through cut led to more new businesses forming, while modestly raising growth at a time when the state’s key industries — aerospace, agriculture and energy production — were faltering.\\nThey say that the state’s budget woes came from lawmakers’ unwillingness to impose spending cuts alongside the tax cuts, and that it was never realistic to expect the tax cuts to produce enough growth to pay for themselves.\\n“Those are effusive political hopes — that’s not economic analysis,” said Dave Trabert, the president of the Kansas Policy Institute, a free-market think tank. “It’s pretty common for people to hope that something is going to have a tremendous, I think Governor Brownback’s phrase was, ‘shot of adrenaline.’ That’s not how economies work.”\\nAdvertisement Continue reading the main story\\nMr. Beaty, the Kansas football coach, was able to shield at least $575,000 a year from income taxation by routing that money through his limited liability company, according to state records. (That amount grew to $1.375 million a year in a contract extension Mr. Beaty signed in December 2016.) Next year, as a result of the recent change in state law, Mr. Beaty will face a tax liability of nearly $80,000 on his pass-through income.\\nOfficials in the Kansas athletics department referred questions about whether tax considerations factored into Mr. Beaty’s contract structure to Mr. Beaty’s agent, Kyle Strongin, who declined to comment.\\nSome other prominent coaches in the state, including the Kansas men’s basketball coach, Bill Self, have long received some of their salaries through pass-through entities. Other coaches do not, including the Wichita State University men’s basketball coach Gregg Marshall, who earns $3 million a year entirely as labor income.\""
            ]
          },
          "metadata": {
            "tags": []
          },
          "execution_count": 37
        }
      ]
    },
    {
      "cell_type": "markdown",
      "metadata": {
        "papermill": {
          "duration": 0.026569,
          "end_time": "2021-03-21T09:14:55.732318",
          "exception": false,
          "start_time": "2021-03-21T09:14:55.705749",
          "status": "completed"
        },
        "tags": [],
        "id": "bDYwBw5dbOoY"
      },
      "source": [
        "# Text Preprocessing"
      ]
    },
    {
      "cell_type": "code",
      "metadata": {
        "execution": {
          "iopub.execute_input": "2021-03-21T09:14:55.789875Z",
          "iopub.status.busy": "2021-03-21T09:14:55.789204Z",
          "iopub.status.idle": "2021-03-21T09:19:52.977625Z",
          "shell.execute_reply": "2021-03-21T09:19:52.978193Z"
        },
        "papermill": {
          "duration": 297.219074,
          "end_time": "2021-03-21T09:19:52.978400",
          "exception": false,
          "start_time": "2021-03-21T09:14:55.759326",
          "status": "completed"
        },
        "tags": [],
        "colab": {
          "base_uri": "https://localhost:8080/"
        },
        "id": "9kPl0obAbOoY",
        "outputId": "7fb8af4f-1036-42af-8d33-7339ef9a916b"
      },
      "source": [
        "import nltk\n",
        "nltk.download('stopwords')\n",
        "from nltk.corpus import stopwords\n",
        "from nltk.stem.porter import PorterStemmer\n",
        "import re\n",
        "\n",
        "ps = PorterStemmer()\n",
        "corpus = []\n",
        "for i in range(0, len(messages)):\n",
        "    review = re.sub('[^a-zA-Z]', ' ', messages['Body'][i])\n",
        "    review = review.lower()\n",
        "    review = review.split()\n",
        "    \n",
        "    review = [ps.stem(word) for word in review if not word in stopwords.words('english')]\n",
        "    review = ' '.join(review)\n",
        "    corpus.append(review)"
      ],
      "execution_count": 38,
      "outputs": [
        {
          "output_type": "stream",
          "text": [
            "[nltk_data] Downloading package stopwords to /root/nltk_data...\n",
            "[nltk_data]   Package stopwords is already up-to-date!\n"
          ],
          "name": "stdout"
        }
      ]
    },
    {
      "cell_type": "code",
      "metadata": {
        "execution": {
          "iopub.execute_input": "2021-03-21T09:19:53.037977Z",
          "iopub.status.busy": "2021-03-21T09:19:53.037305Z",
          "iopub.status.idle": "2021-03-21T09:19:53.047955Z",
          "shell.execute_reply": "2021-03-21T09:19:53.047420Z"
        },
        "papermill": {
          "duration": 0.04124,
          "end_time": "2021-03-21T09:19:53.048112",
          "exception": false,
          "start_time": "2021-03-21T09:19:53.006872",
          "status": "completed"
        },
        "tags": [],
        "colab": {
          "base_uri": "https://localhost:8080/",
          "height": 52
        },
        "id": "6wvbxmpqbOoY",
        "outputId": "0efb3f19-a86a-4998-d03a-5a8c3c1e4f58"
      },
      "source": [
        "corpus[3]"
      ],
      "execution_count": 39,
      "outputs": [
        {
          "output_type": "execute_result",
          "data": {
            "application/vnd.google.colaboratory.intrinsic+json": {
              "type": "string"
            },
            "text/plain": [
              "'mexico citi reuter egypt cheiron hold limit right partner mexican nation oil compani pemex onshor cardena mora project industri regul said wednesday tie mark second joint ventur pemex equiti partner sinc energi open final end compani decad long monopoli allow develop project privat foreign oil compani cardena mora squar mile sq km field locat tabasco state believ contain million barrel oil equival boe proven probabl possibl reserv'"
            ]
          },
          "metadata": {
            "tags": []
          },
          "execution_count": 39
        }
      ]
    },
    {
      "cell_type": "code",
      "metadata": {
        "execution": {
          "iopub.execute_input": "2021-03-21T09:19:53.106829Z",
          "iopub.status.busy": "2021-03-21T09:19:53.105963Z",
          "iopub.status.idle": "2021-03-21T09:20:04.369171Z",
          "shell.execute_reply": "2021-03-21T09:20:04.368543Z"
        },
        "papermill": {
          "duration": 11.29362,
          "end_time": "2021-03-21T09:20:04.369336",
          "exception": false,
          "start_time": "2021-03-21T09:19:53.075716",
          "status": "completed"
        },
        "tags": [],
        "id": "uyMQfmyqbOoZ"
      },
      "source": [
        "## Applying TFidf Vectorizer\n",
        "from sklearn.feature_extraction.text import TfidfVectorizer\n",
        "tfidf_v=TfidfVectorizer(max_features=5000,ngram_range=(1,3))\n",
        "X=tfidf_v.fit_transform(corpus).toarray()"
      ],
      "execution_count": 40,
      "outputs": []
    },
    {
      "cell_type": "code",
      "metadata": {
        "execution": {
          "iopub.execute_input": "2021-03-21T09:20:04.431131Z",
          "iopub.status.busy": "2021-03-21T09:20:04.430296Z",
          "iopub.status.idle": "2021-03-21T09:20:04.435360Z",
          "shell.execute_reply": "2021-03-21T09:20:04.434683Z"
        },
        "papermill": {
          "duration": 0.038305,
          "end_time": "2021-03-21T09:20:04.435514",
          "exception": false,
          "start_time": "2021-03-21T09:20:04.397209",
          "status": "completed"
        },
        "tags": [],
        "colab": {
          "base_uri": "https://localhost:8080/"
        },
        "id": "oUJLa4AbbOoZ",
        "outputId": "84fca11c-a7aa-4787-9d2e-c94dc9e7ec9c"
      },
      "source": [
        "X.shape"
      ],
      "execution_count": 41,
      "outputs": [
        {
          "output_type": "execute_result",
          "data": {
            "text/plain": [
              "(3988, 5000)"
            ]
          },
          "metadata": {
            "tags": []
          },
          "execution_count": 41
        }
      ]
    },
    {
      "cell_type": "code",
      "metadata": {
        "execution": {
          "iopub.execute_input": "2021-03-21T09:20:04.497241Z",
          "iopub.status.busy": "2021-03-21T09:20:04.496531Z",
          "iopub.status.idle": "2021-03-21T09:20:04.500690Z",
          "shell.execute_reply": "2021-03-21T09:20:04.501226Z"
        },
        "papermill": {
          "duration": 0.036936,
          "end_time": "2021-03-21T09:20:04.501425",
          "exception": false,
          "start_time": "2021-03-21T09:20:04.464489",
          "status": "completed"
        },
        "tags": [],
        "id": "d3pUqUT2bOoZ"
      },
      "source": [
        "y=messages['Label']"
      ],
      "execution_count": 42,
      "outputs": []
    },
    {
      "cell_type": "code",
      "metadata": {
        "execution": {
          "iopub.execute_input": "2021-03-21T09:20:04.565020Z",
          "iopub.status.busy": "2021-03-21T09:20:04.561932Z",
          "iopub.status.idle": "2021-03-21T09:20:04.631170Z",
          "shell.execute_reply": "2021-03-21T09:20:04.630461Z"
        },
        "papermill": {
          "duration": 0.100867,
          "end_time": "2021-03-21T09:20:04.631327",
          "exception": false,
          "start_time": "2021-03-21T09:20:04.530460",
          "status": "completed"
        },
        "tags": [],
        "id": "SKGJeJvEbOoZ"
      },
      "source": [
        "## Divide the dataset into Train and Test\n",
        "from sklearn.model_selection import train_test_split\n",
        "X_train, X_test, y_train, y_test = train_test_split(X, y, test_size=0.33, random_state=0)"
      ],
      "execution_count": 43,
      "outputs": []
    },
    {
      "cell_type": "code",
      "metadata": {
        "execution": {
          "iopub.execute_input": "2021-03-21T09:20:04.704618Z",
          "iopub.status.busy": "2021-03-21T09:20:04.703875Z",
          "iopub.status.idle": "2021-03-21T09:20:04.709487Z",
          "shell.execute_reply": "2021-03-21T09:20:04.708928Z"
        },
        "papermill": {
          "duration": 0.048447,
          "end_time": "2021-03-21T09:20:04.709660",
          "exception": false,
          "start_time": "2021-03-21T09:20:04.661213",
          "status": "completed"
        },
        "tags": [],
        "colab": {
          "base_uri": "https://localhost:8080/"
        },
        "id": "Zv7zt2QIbOoZ",
        "outputId": "9268b443-e09b-48a8-cd61-4009f80340af"
      },
      "source": [
        "tfidf_v.get_feature_names()[:20]"
      ],
      "execution_count": 44,
      "outputs": [
        {
          "output_type": "execute_result",
          "data": {
            "text/plain": [
              "['aaron',\n",
              " 'aaron judg',\n",
              " 'aaron kesel',\n",
              " 'aaron rodger',\n",
              " 'ab',\n",
              " 'abandon',\n",
              " 'abc',\n",
              " 'abe',\n",
              " 'aberti',\n",
              " 'abil',\n",
              " 'abl',\n",
              " 'abort',\n",
              " 'abroad',\n",
              " 'absenc',\n",
              " 'absolut',\n",
              " 'abus',\n",
              " 'ac',\n",
              " 'academ',\n",
              " 'academi',\n",
              " 'acc']"
            ]
          },
          "metadata": {
            "tags": []
          },
          "execution_count": 44
        }
      ]
    },
    {
      "cell_type": "code",
      "metadata": {
        "execution": {
          "iopub.execute_input": "2021-03-21T09:20:04.774661Z",
          "iopub.status.busy": "2021-03-21T09:20:04.773627Z",
          "iopub.status.idle": "2021-03-21T09:20:04.778575Z",
          "shell.execute_reply": "2021-03-21T09:20:04.777940Z"
        },
        "papermill": {
          "duration": 0.039951,
          "end_time": "2021-03-21T09:20:04.778720",
          "exception": false,
          "start_time": "2021-03-21T09:20:04.738769",
          "status": "completed"
        },
        "tags": [],
        "colab": {
          "base_uri": "https://localhost:8080/"
        },
        "id": "5L0Cg78tbOoa",
        "outputId": "25a82035-7554-460a-ecc1-04b5a5a9bcbc"
      },
      "source": [
        "tfidf_v.get_params()# things what you have applied in tfidf"
      ],
      "execution_count": 45,
      "outputs": [
        {
          "output_type": "execute_result",
          "data": {
            "text/plain": [
              "{'analyzer': 'word',\n",
              " 'binary': False,\n",
              " 'decode_error': 'strict',\n",
              " 'dtype': numpy.float64,\n",
              " 'encoding': 'utf-8',\n",
              " 'input': 'content',\n",
              " 'lowercase': True,\n",
              " 'max_df': 1.0,\n",
              " 'max_features': 5000,\n",
              " 'min_df': 1,\n",
              " 'ngram_range': (1, 3),\n",
              " 'norm': 'l2',\n",
              " 'preprocessor': None,\n",
              " 'smooth_idf': True,\n",
              " 'stop_words': None,\n",
              " 'strip_accents': None,\n",
              " 'sublinear_tf': False,\n",
              " 'token_pattern': '(?u)\\\\b\\\\w\\\\w+\\\\b',\n",
              " 'tokenizer': None,\n",
              " 'use_idf': True,\n",
              " 'vocabulary': None}"
            ]
          },
          "metadata": {
            "tags": []
          },
          "execution_count": 45
        }
      ]
    },
    {
      "cell_type": "code",
      "metadata": {
        "execution": {
          "iopub.execute_input": "2021-03-21T09:20:04.855483Z",
          "iopub.status.busy": "2021-03-21T09:20:04.854519Z",
          "iopub.status.idle": "2021-03-21T09:20:04.858491Z",
          "shell.execute_reply": "2021-03-21T09:20:04.857888Z"
        },
        "papermill": {
          "duration": 0.049826,
          "end_time": "2021-03-21T09:20:04.858667",
          "exception": false,
          "start_time": "2021-03-21T09:20:04.808841",
          "status": "completed"
        },
        "tags": [],
        "id": "dpfowaikbOoa"
      },
      "source": [
        "count_df = pd.DataFrame(X_train, columns=tfidf_v.get_feature_names())"
      ],
      "execution_count": 46,
      "outputs": []
    },
    {
      "cell_type": "code",
      "metadata": {
        "execution": {
          "iopub.execute_input": "2021-03-21T09:20:04.953562Z",
          "iopub.status.busy": "2021-03-21T09:20:04.945783Z",
          "iopub.status.idle": "2021-03-21T09:20:04.959766Z",
          "shell.execute_reply": "2021-03-21T09:20:04.959148Z"
        },
        "papermill": {
          "duration": 0.071192,
          "end_time": "2021-03-21T09:20:04.959922",
          "exception": false,
          "start_time": "2021-03-21T09:20:04.888730",
          "status": "completed"
        },
        "tags": [],
        "colab": {
          "base_uri": "https://localhost:8080/",
          "height": 287
        },
        "id": "H9sTGCNKbOoa",
        "outputId": "15c74871-3351-45e1-8826-d214c84ce00d"
      },
      "source": [
        "count_df.head()"
      ],
      "execution_count": 47,
      "outputs": [
        {
          "output_type": "execute_result",
          "data": {
            "text/html": [
              "<div>\n",
              "<style scoped>\n",
              "    .dataframe tbody tr th:only-of-type {\n",
              "        vertical-align: middle;\n",
              "    }\n",
              "\n",
              "    .dataframe tbody tr th {\n",
              "        vertical-align: top;\n",
              "    }\n",
              "\n",
              "    .dataframe thead th {\n",
              "        text-align: right;\n",
              "    }\n",
              "</style>\n",
              "<table border=\"1\" class=\"dataframe\">\n",
              "  <thead>\n",
              "    <tr style=\"text-align: right;\">\n",
              "      <th></th>\n",
              "      <th>aaron</th>\n",
              "      <th>aaron judg</th>\n",
              "      <th>aaron kesel</th>\n",
              "      <th>aaron rodger</th>\n",
              "      <th>ab</th>\n",
              "      <th>abandon</th>\n",
              "      <th>abc</th>\n",
              "      <th>abe</th>\n",
              "      <th>aberti</th>\n",
              "      <th>abil</th>\n",
              "      <th>abl</th>\n",
              "      <th>abort</th>\n",
              "      <th>abroad</th>\n",
              "      <th>absenc</th>\n",
              "      <th>absolut</th>\n",
              "      <th>abus</th>\n",
              "      <th>ac</th>\n",
              "      <th>academ</th>\n",
              "      <th>academi</th>\n",
              "      <th>acc</th>\n",
              "      <th>acc network</th>\n",
              "      <th>accept</th>\n",
              "      <th>access</th>\n",
              "      <th>accid</th>\n",
              "      <th>accompani</th>\n",
              "      <th>accomplish</th>\n",
              "      <th>accord</th>\n",
              "      <th>accord report</th>\n",
              "      <th>account</th>\n",
              "      <th>account allsportsdacc</th>\n",
              "      <th>account allsportsdacc pleas</th>\n",
              "      <th>accur</th>\n",
              "      <th>accus</th>\n",
              "      <th>ace</th>\n",
              "      <th>achiev</th>\n",
              "      <th>acknowledg</th>\n",
              "      <th>acquir</th>\n",
              "      <th>acquisit</th>\n",
              "      <th>acr</th>\n",
              "      <th>across</th>\n",
              "      <th>...</th>\n",
              "      <th>www conservativedailynew</th>\n",
              "      <th>www conservativedailynew com</th>\n",
              "      <th>www jetnat</th>\n",
              "      <th>www jetnat com</th>\n",
              "      <th>xi</th>\n",
              "      <th>yanke</th>\n",
              "      <th>yard</th>\n",
              "      <th>yard carri</th>\n",
              "      <th>yard per</th>\n",
              "      <th>yard td</th>\n",
              "      <th>yard touchdown</th>\n",
              "      <th>ye</th>\n",
              "      <th>yeah</th>\n",
              "      <th>year</th>\n",
              "      <th>year ago</th>\n",
              "      <th>year later</th>\n",
              "      <th>year old</th>\n",
              "      <th>year year</th>\n",
              "      <th>yemen</th>\n",
              "      <th>yesterday</th>\n",
              "      <th>yet</th>\n",
              "      <th>yet anoth</th>\n",
              "      <th>yield</th>\n",
              "      <th>york</th>\n",
              "      <th>york citi</th>\n",
              "      <th>york giant</th>\n",
              "      <th>york jet</th>\n",
              "      <th>york time</th>\n",
              "      <th>york time newslett</th>\n",
              "      <th>york time product</th>\n",
              "      <th>yorker</th>\n",
              "      <th>young</th>\n",
              "      <th>younger</th>\n",
              "      <th>youth</th>\n",
              "      <th>youtub</th>\n",
              "      <th>zach</th>\n",
              "      <th>zapatista</th>\n",
              "      <th>zealand</th>\n",
              "      <th>zero</th>\n",
              "      <th>zone</th>\n",
              "    </tr>\n",
              "  </thead>\n",
              "  <tbody>\n",
              "    <tr>\n",
              "      <th>0</th>\n",
              "      <td>0.073735</td>\n",
              "      <td>0.0</td>\n",
              "      <td>0.0</td>\n",
              "      <td>0.0</td>\n",
              "      <td>0.0</td>\n",
              "      <td>0.0</td>\n",
              "      <td>0.0</td>\n",
              "      <td>0.0</td>\n",
              "      <td>0.0</td>\n",
              "      <td>0.0</td>\n",
              "      <td>0.0</td>\n",
              "      <td>0.0</td>\n",
              "      <td>0.0</td>\n",
              "      <td>0.0</td>\n",
              "      <td>0.0</td>\n",
              "      <td>0.0</td>\n",
              "      <td>0.0</td>\n",
              "      <td>0.0</td>\n",
              "      <td>0.000000</td>\n",
              "      <td>0.0</td>\n",
              "      <td>0.0</td>\n",
              "      <td>0.0</td>\n",
              "      <td>0.0</td>\n",
              "      <td>0.0</td>\n",
              "      <td>0.0</td>\n",
              "      <td>0.0</td>\n",
              "      <td>0.0</td>\n",
              "      <td>0.0</td>\n",
              "      <td>0.0</td>\n",
              "      <td>0.0</td>\n",
              "      <td>0.0</td>\n",
              "      <td>0.0</td>\n",
              "      <td>0.0</td>\n",
              "      <td>0.0</td>\n",
              "      <td>0.0</td>\n",
              "      <td>0.0</td>\n",
              "      <td>0.0</td>\n",
              "      <td>0.0</td>\n",
              "      <td>0.000000</td>\n",
              "      <td>0.000000</td>\n",
              "      <td>...</td>\n",
              "      <td>0.0</td>\n",
              "      <td>0.0</td>\n",
              "      <td>0.0</td>\n",
              "      <td>0.0</td>\n",
              "      <td>0.000000</td>\n",
              "      <td>0.0</td>\n",
              "      <td>0.0</td>\n",
              "      <td>0.0</td>\n",
              "      <td>0.0</td>\n",
              "      <td>0.0</td>\n",
              "      <td>0.0</td>\n",
              "      <td>0.0</td>\n",
              "      <td>0.0</td>\n",
              "      <td>0.000000</td>\n",
              "      <td>0.0</td>\n",
              "      <td>0.0</td>\n",
              "      <td>0.000000</td>\n",
              "      <td>0.0</td>\n",
              "      <td>0.0</td>\n",
              "      <td>0.0</td>\n",
              "      <td>0.000000</td>\n",
              "      <td>0.0</td>\n",
              "      <td>0.0</td>\n",
              "      <td>0.000000</td>\n",
              "      <td>0.0</td>\n",
              "      <td>0.0</td>\n",
              "      <td>0.0</td>\n",
              "      <td>0.000000</td>\n",
              "      <td>0.000000</td>\n",
              "      <td>0.000000</td>\n",
              "      <td>0.0</td>\n",
              "      <td>0.0</td>\n",
              "      <td>0.0</td>\n",
              "      <td>0.0</td>\n",
              "      <td>0.0</td>\n",
              "      <td>0.0</td>\n",
              "      <td>0.0</td>\n",
              "      <td>0.0</td>\n",
              "      <td>0.0</td>\n",
              "      <td>0.0</td>\n",
              "    </tr>\n",
              "    <tr>\n",
              "      <th>1</th>\n",
              "      <td>0.000000</td>\n",
              "      <td>0.0</td>\n",
              "      <td>0.0</td>\n",
              "      <td>0.0</td>\n",
              "      <td>0.0</td>\n",
              "      <td>0.0</td>\n",
              "      <td>0.0</td>\n",
              "      <td>0.0</td>\n",
              "      <td>0.0</td>\n",
              "      <td>0.0</td>\n",
              "      <td>0.0</td>\n",
              "      <td>0.0</td>\n",
              "      <td>0.0</td>\n",
              "      <td>0.0</td>\n",
              "      <td>0.0</td>\n",
              "      <td>0.0</td>\n",
              "      <td>0.0</td>\n",
              "      <td>0.0</td>\n",
              "      <td>0.000000</td>\n",
              "      <td>0.0</td>\n",
              "      <td>0.0</td>\n",
              "      <td>0.0</td>\n",
              "      <td>0.0</td>\n",
              "      <td>0.0</td>\n",
              "      <td>0.0</td>\n",
              "      <td>0.0</td>\n",
              "      <td>0.0</td>\n",
              "      <td>0.0</td>\n",
              "      <td>0.0</td>\n",
              "      <td>0.0</td>\n",
              "      <td>0.0</td>\n",
              "      <td>0.0</td>\n",
              "      <td>0.0</td>\n",
              "      <td>0.0</td>\n",
              "      <td>0.0</td>\n",
              "      <td>0.0</td>\n",
              "      <td>0.0</td>\n",
              "      <td>0.0</td>\n",
              "      <td>0.000000</td>\n",
              "      <td>0.000000</td>\n",
              "      <td>...</td>\n",
              "      <td>0.0</td>\n",
              "      <td>0.0</td>\n",
              "      <td>0.0</td>\n",
              "      <td>0.0</td>\n",
              "      <td>0.000000</td>\n",
              "      <td>0.0</td>\n",
              "      <td>0.0</td>\n",
              "      <td>0.0</td>\n",
              "      <td>0.0</td>\n",
              "      <td>0.0</td>\n",
              "      <td>0.0</td>\n",
              "      <td>0.0</td>\n",
              "      <td>0.0</td>\n",
              "      <td>0.000000</td>\n",
              "      <td>0.0</td>\n",
              "      <td>0.0</td>\n",
              "      <td>0.000000</td>\n",
              "      <td>0.0</td>\n",
              "      <td>0.0</td>\n",
              "      <td>0.0</td>\n",
              "      <td>0.000000</td>\n",
              "      <td>0.0</td>\n",
              "      <td>0.0</td>\n",
              "      <td>0.000000</td>\n",
              "      <td>0.0</td>\n",
              "      <td>0.0</td>\n",
              "      <td>0.0</td>\n",
              "      <td>0.000000</td>\n",
              "      <td>0.000000</td>\n",
              "      <td>0.000000</td>\n",
              "      <td>0.0</td>\n",
              "      <td>0.0</td>\n",
              "      <td>0.0</td>\n",
              "      <td>0.0</td>\n",
              "      <td>0.0</td>\n",
              "      <td>0.0</td>\n",
              "      <td>0.0</td>\n",
              "      <td>0.0</td>\n",
              "      <td>0.0</td>\n",
              "      <td>0.0</td>\n",
              "    </tr>\n",
              "    <tr>\n",
              "      <th>2</th>\n",
              "      <td>0.000000</td>\n",
              "      <td>0.0</td>\n",
              "      <td>0.0</td>\n",
              "      <td>0.0</td>\n",
              "      <td>0.0</td>\n",
              "      <td>0.0</td>\n",
              "      <td>0.0</td>\n",
              "      <td>0.0</td>\n",
              "      <td>0.0</td>\n",
              "      <td>0.0</td>\n",
              "      <td>0.0</td>\n",
              "      <td>0.0</td>\n",
              "      <td>0.0</td>\n",
              "      <td>0.0</td>\n",
              "      <td>0.0</td>\n",
              "      <td>0.0</td>\n",
              "      <td>0.0</td>\n",
              "      <td>0.0</td>\n",
              "      <td>0.000000</td>\n",
              "      <td>0.0</td>\n",
              "      <td>0.0</td>\n",
              "      <td>0.0</td>\n",
              "      <td>0.0</td>\n",
              "      <td>0.0</td>\n",
              "      <td>0.0</td>\n",
              "      <td>0.0</td>\n",
              "      <td>0.0</td>\n",
              "      <td>0.0</td>\n",
              "      <td>0.0</td>\n",
              "      <td>0.0</td>\n",
              "      <td>0.0</td>\n",
              "      <td>0.0</td>\n",
              "      <td>0.0</td>\n",
              "      <td>0.0</td>\n",
              "      <td>0.0</td>\n",
              "      <td>0.0</td>\n",
              "      <td>0.0</td>\n",
              "      <td>0.0</td>\n",
              "      <td>0.000000</td>\n",
              "      <td>0.000000</td>\n",
              "      <td>...</td>\n",
              "      <td>0.0</td>\n",
              "      <td>0.0</td>\n",
              "      <td>0.0</td>\n",
              "      <td>0.0</td>\n",
              "      <td>0.078343</td>\n",
              "      <td>0.0</td>\n",
              "      <td>0.0</td>\n",
              "      <td>0.0</td>\n",
              "      <td>0.0</td>\n",
              "      <td>0.0</td>\n",
              "      <td>0.0</td>\n",
              "      <td>0.0</td>\n",
              "      <td>0.0</td>\n",
              "      <td>0.000000</td>\n",
              "      <td>0.0</td>\n",
              "      <td>0.0</td>\n",
              "      <td>0.000000</td>\n",
              "      <td>0.0</td>\n",
              "      <td>0.0</td>\n",
              "      <td>0.0</td>\n",
              "      <td>0.041322</td>\n",
              "      <td>0.0</td>\n",
              "      <td>0.0</td>\n",
              "      <td>0.000000</td>\n",
              "      <td>0.0</td>\n",
              "      <td>0.0</td>\n",
              "      <td>0.0</td>\n",
              "      <td>0.000000</td>\n",
              "      <td>0.000000</td>\n",
              "      <td>0.000000</td>\n",
              "      <td>0.0</td>\n",
              "      <td>0.0</td>\n",
              "      <td>0.0</td>\n",
              "      <td>0.0</td>\n",
              "      <td>0.0</td>\n",
              "      <td>0.0</td>\n",
              "      <td>0.0</td>\n",
              "      <td>0.0</td>\n",
              "      <td>0.0</td>\n",
              "      <td>0.0</td>\n",
              "    </tr>\n",
              "    <tr>\n",
              "      <th>3</th>\n",
              "      <td>0.000000</td>\n",
              "      <td>0.0</td>\n",
              "      <td>0.0</td>\n",
              "      <td>0.0</td>\n",
              "      <td>0.0</td>\n",
              "      <td>0.0</td>\n",
              "      <td>0.0</td>\n",
              "      <td>0.0</td>\n",
              "      <td>0.0</td>\n",
              "      <td>0.0</td>\n",
              "      <td>0.0</td>\n",
              "      <td>0.0</td>\n",
              "      <td>0.0</td>\n",
              "      <td>0.0</td>\n",
              "      <td>0.0</td>\n",
              "      <td>0.0</td>\n",
              "      <td>0.0</td>\n",
              "      <td>0.0</td>\n",
              "      <td>0.033416</td>\n",
              "      <td>0.0</td>\n",
              "      <td>0.0</td>\n",
              "      <td>0.0</td>\n",
              "      <td>0.0</td>\n",
              "      <td>0.0</td>\n",
              "      <td>0.0</td>\n",
              "      <td>0.0</td>\n",
              "      <td>0.0</td>\n",
              "      <td>0.0</td>\n",
              "      <td>0.0</td>\n",
              "      <td>0.0</td>\n",
              "      <td>0.0</td>\n",
              "      <td>0.0</td>\n",
              "      <td>0.0</td>\n",
              "      <td>0.0</td>\n",
              "      <td>0.0</td>\n",
              "      <td>0.0</td>\n",
              "      <td>0.0</td>\n",
              "      <td>0.0</td>\n",
              "      <td>0.071497</td>\n",
              "      <td>0.021101</td>\n",
              "      <td>...</td>\n",
              "      <td>0.0</td>\n",
              "      <td>0.0</td>\n",
              "      <td>0.0</td>\n",
              "      <td>0.0</td>\n",
              "      <td>0.000000</td>\n",
              "      <td>0.0</td>\n",
              "      <td>0.0</td>\n",
              "      <td>0.0</td>\n",
              "      <td>0.0</td>\n",
              "      <td>0.0</td>\n",
              "      <td>0.0</td>\n",
              "      <td>0.0</td>\n",
              "      <td>0.0</td>\n",
              "      <td>0.034603</td>\n",
              "      <td>0.0</td>\n",
              "      <td>0.0</td>\n",
              "      <td>0.021007</td>\n",
              "      <td>0.0</td>\n",
              "      <td>0.0</td>\n",
              "      <td>0.0</td>\n",
              "      <td>0.000000</td>\n",
              "      <td>0.0</td>\n",
              "      <td>0.0</td>\n",
              "      <td>0.141461</td>\n",
              "      <td>0.0</td>\n",
              "      <td>0.0</td>\n",
              "      <td>0.0</td>\n",
              "      <td>0.177829</td>\n",
              "      <td>0.024724</td>\n",
              "      <td>0.024724</td>\n",
              "      <td>0.0</td>\n",
              "      <td>0.0</td>\n",
              "      <td>0.0</td>\n",
              "      <td>0.0</td>\n",
              "      <td>0.0</td>\n",
              "      <td>0.0</td>\n",
              "      <td>0.0</td>\n",
              "      <td>0.0</td>\n",
              "      <td>0.0</td>\n",
              "      <td>0.0</td>\n",
              "    </tr>\n",
              "    <tr>\n",
              "      <th>4</th>\n",
              "      <td>0.000000</td>\n",
              "      <td>0.0</td>\n",
              "      <td>0.0</td>\n",
              "      <td>0.0</td>\n",
              "      <td>0.0</td>\n",
              "      <td>0.0</td>\n",
              "      <td>0.0</td>\n",
              "      <td>0.0</td>\n",
              "      <td>0.0</td>\n",
              "      <td>0.0</td>\n",
              "      <td>0.0</td>\n",
              "      <td>0.0</td>\n",
              "      <td>0.0</td>\n",
              "      <td>0.0</td>\n",
              "      <td>0.0</td>\n",
              "      <td>0.0</td>\n",
              "      <td>0.0</td>\n",
              "      <td>0.0</td>\n",
              "      <td>0.000000</td>\n",
              "      <td>0.0</td>\n",
              "      <td>0.0</td>\n",
              "      <td>0.0</td>\n",
              "      <td>0.0</td>\n",
              "      <td>0.0</td>\n",
              "      <td>0.0</td>\n",
              "      <td>0.0</td>\n",
              "      <td>0.0</td>\n",
              "      <td>0.0</td>\n",
              "      <td>0.0</td>\n",
              "      <td>0.0</td>\n",
              "      <td>0.0</td>\n",
              "      <td>0.0</td>\n",
              "      <td>0.0</td>\n",
              "      <td>0.0</td>\n",
              "      <td>0.0</td>\n",
              "      <td>0.0</td>\n",
              "      <td>0.0</td>\n",
              "      <td>0.0</td>\n",
              "      <td>0.000000</td>\n",
              "      <td>0.047467</td>\n",
              "      <td>...</td>\n",
              "      <td>0.0</td>\n",
              "      <td>0.0</td>\n",
              "      <td>0.0</td>\n",
              "      <td>0.0</td>\n",
              "      <td>0.000000</td>\n",
              "      <td>0.0</td>\n",
              "      <td>0.0</td>\n",
              "      <td>0.0</td>\n",
              "      <td>0.0</td>\n",
              "      <td>0.0</td>\n",
              "      <td>0.0</td>\n",
              "      <td>0.0</td>\n",
              "      <td>0.0</td>\n",
              "      <td>0.129732</td>\n",
              "      <td>0.0</td>\n",
              "      <td>0.0</td>\n",
              "      <td>0.000000</td>\n",
              "      <td>0.0</td>\n",
              "      <td>0.0</td>\n",
              "      <td>0.0</td>\n",
              "      <td>0.000000</td>\n",
              "      <td>0.0</td>\n",
              "      <td>0.0</td>\n",
              "      <td>0.000000</td>\n",
              "      <td>0.0</td>\n",
              "      <td>0.0</td>\n",
              "      <td>0.0</td>\n",
              "      <td>0.000000</td>\n",
              "      <td>0.000000</td>\n",
              "      <td>0.000000</td>\n",
              "      <td>0.0</td>\n",
              "      <td>0.0</td>\n",
              "      <td>0.0</td>\n",
              "      <td>0.0</td>\n",
              "      <td>0.0</td>\n",
              "      <td>0.0</td>\n",
              "      <td>0.0</td>\n",
              "      <td>0.0</td>\n",
              "      <td>0.0</td>\n",
              "      <td>0.0</td>\n",
              "    </tr>\n",
              "  </tbody>\n",
              "</table>\n",
              "<p>5 rows × 5000 columns</p>\n",
              "</div>"
            ],
            "text/plain": [
              "      aaron  aaron judg  aaron kesel  ...  zealand  zero  zone\n",
              "0  0.073735         0.0          0.0  ...      0.0   0.0   0.0\n",
              "1  0.000000         0.0          0.0  ...      0.0   0.0   0.0\n",
              "2  0.000000         0.0          0.0  ...      0.0   0.0   0.0\n",
              "3  0.000000         0.0          0.0  ...      0.0   0.0   0.0\n",
              "4  0.000000         0.0          0.0  ...      0.0   0.0   0.0\n",
              "\n",
              "[5 rows x 5000 columns]"
            ]
          },
          "metadata": {
            "tags": []
          },
          "execution_count": 47
        }
      ]
    },
    {
      "cell_type": "code",
      "metadata": {
        "execution": {
          "iopub.execute_input": "2021-03-21T09:20:05.027281Z",
          "iopub.status.busy": "2021-03-21T09:20:05.026504Z",
          "iopub.status.idle": "2021-03-21T09:20:05.030696Z",
          "shell.execute_reply": "2021-03-21T09:20:05.029793Z"
        },
        "papermill": {
          "duration": 0.040134,
          "end_time": "2021-03-21T09:20:05.030984",
          "exception": false,
          "start_time": "2021-03-21T09:20:04.990850",
          "status": "completed"
        },
        "tags": [],
        "id": "9M5pF5v_bOoa"
      },
      "source": [
        "import matplotlib.pyplot as plt"
      ],
      "execution_count": 48,
      "outputs": []
    },
    {
      "cell_type": "code",
      "metadata": {
        "execution": {
          "iopub.execute_input": "2021-03-21T09:20:05.104702Z",
          "iopub.status.busy": "2021-03-21T09:20:05.103913Z",
          "iopub.status.idle": "2021-03-21T09:20:05.107351Z",
          "shell.execute_reply": "2021-03-21T09:20:05.107860Z"
        },
        "papermill": {
          "duration": 0.045558,
          "end_time": "2021-03-21T09:20:05.108046",
          "exception": false,
          "start_time": "2021-03-21T09:20:05.062488",
          "status": "completed"
        },
        "tags": [],
        "id": "DNHSOdprbOoa"
      },
      "source": [
        "# Applying confusion matrix\n",
        "def plot_confusion_matrix(cm, classes,\n",
        "                          normalize=False,\n",
        "                          title='Confusion matrix',\n",
        "                          cmap=plt.cm.Blues):\n",
        "    plt.imshow(cm, interpolation='nearest', cmap=cmap)\n",
        "    plt.title(title)\n",
        "    plt.colorbar()\n",
        "    tick_marks = np.arange(len(classes))\n",
        "    plt.xticks(tick_marks, classes, rotation=45)\n",
        "    plt.yticks(tick_marks, classes)\n",
        "\n",
        "    if normalize:\n",
        "        cm = cm.astype('float') / cm.sum(axis=1)[:, np.newaxis]\n",
        "        print(\"Normalized confusion matrix\")\n",
        "    else:\n",
        "        print('Confusion matrix, without normalization')\n",
        "\n",
        "    thresh = cm.max() / 2.\n",
        "    for i, j in itertools.product(range(cm.shape[0]), range(cm.shape[1])):\n",
        "        plt.text(j, i, cm[i, j],\n",
        "                 horizontalalignment=\"center\",\n",
        "                 color=\"white\" if cm[i, j] > thresh else \"black\")\n",
        "\n",
        "    plt.tight_layout()\n",
        "    plt.ylabel('True label')\n",
        "    plt.xlabel('Predicted label')"
      ],
      "execution_count": 49,
      "outputs": []
    },
    {
      "cell_type": "markdown",
      "metadata": {
        "papermill": {
          "duration": 0.029973,
          "end_time": "2021-03-21T09:20:05.169257",
          "exception": false,
          "start_time": "2021-03-21T09:20:05.139284",
          "status": "completed"
        },
        "tags": [],
        "id": "i9mJhuvmbOob"
      },
      "source": [
        "# Model selection and model building."
      ]
    },
    {
      "cell_type": "code",
      "metadata": {
        "execution": {
          "iopub.execute_input": "2021-03-21T09:20:05.235353Z",
          "iopub.status.busy": "2021-03-21T09:20:05.234628Z",
          "iopub.status.idle": "2021-03-21T09:20:05.243795Z",
          "shell.execute_reply": "2021-03-21T09:20:05.242149Z"
        },
        "papermill": {
          "duration": 0.044302,
          "end_time": "2021-03-21T09:20:05.243971",
          "exception": false,
          "start_time": "2021-03-21T09:20:05.199669",
          "status": "completed"
        },
        "tags": [],
        "id": "E-GSj0iqbOob"
      },
      "source": [
        "from sklearn.naive_bayes import MultinomialNB\n",
        "classifier=MultinomialNB()"
      ],
      "execution_count": 50,
      "outputs": []
    },
    {
      "cell_type": "code",
      "metadata": {
        "execution": {
          "iopub.execute_input": "2021-03-21T09:20:05.310655Z",
          "iopub.status.busy": "2021-03-21T09:20:05.309973Z",
          "iopub.status.idle": "2021-03-21T09:20:05.313806Z",
          "shell.execute_reply": "2021-03-21T09:20:05.313236Z"
        },
        "papermill": {
          "duration": 0.03929,
          "end_time": "2021-03-21T09:20:05.313975",
          "exception": false,
          "start_time": "2021-03-21T09:20:05.274685",
          "status": "completed"
        },
        "tags": [],
        "id": "PDcRGl7dbOob"
      },
      "source": [
        "from sklearn import metrics\n",
        "import numpy as np\n",
        "import itertools"
      ],
      "execution_count": 51,
      "outputs": []
    },
    {
      "cell_type": "code",
      "metadata": {
        "execution": {
          "iopub.execute_input": "2021-03-21T09:20:05.384072Z",
          "iopub.status.busy": "2021-03-21T09:20:05.382798Z",
          "iopub.status.idle": "2021-03-21T09:20:05.689444Z",
          "shell.execute_reply": "2021-03-21T09:20:05.688850Z"
        },
        "papermill": {
          "duration": 0.343937,
          "end_time": "2021-03-21T09:20:05.689598",
          "exception": false,
          "start_time": "2021-03-21T09:20:05.345661",
          "status": "completed"
        },
        "tags": [],
        "colab": {
          "base_uri": "https://localhost:8080/",
          "height": 345
        },
        "id": "dACKy-fbbOob",
        "outputId": "9e5008c6-f734-493d-9d67-9114a9152ec7"
      },
      "source": [
        "classifier.fit(X_train, y_train)\n",
        "pred = classifier.predict(X_test)\n",
        "score = metrics.accuracy_score(y_test, pred)\n",
        "print(\"accuracy:   %0.3f\" % score)\n",
        "cm = metrics.confusion_matrix(y_test, pred)\n",
        "plot_confusion_matrix(cm, classes=['FAKE', 'REAL'])"
      ],
      "execution_count": 52,
      "outputs": [
        {
          "output_type": "stream",
          "text": [
            "accuracy:   0.893\n",
            "Confusion matrix, without normalization\n"
          ],
          "name": "stdout"
        },
        {
          "output_type": "display_data",
          "data": {
            "image/png": "[encoded data removed]",
            "text/plain": [
              "<Figure size 432x288 with 2 Axes>"
            ]
          },
          "metadata": {
            "tags": [],
            "needs_background": "light"
          }
        }
      ]
    },
    {
      "cell_type": "code",
      "metadata": {
        "execution": {
          "iopub.execute_input": "2021-03-21T09:20:05.760046Z",
          "iopub.status.busy": "2021-03-21T09:20:05.759406Z",
          "iopub.status.idle": "2021-03-21T09:20:05.836623Z",
          "shell.execute_reply": "2021-03-21T09:20:05.836016Z"
        },
        "papermill": {
          "duration": 0.114437,
          "end_time": "2021-03-21T09:20:05.836776",
          "exception": false,
          "start_time": "2021-03-21T09:20:05.722339",
          "status": "completed"
        },
        "tags": [],
        "colab": {
          "base_uri": "https://localhost:8080/"
        },
        "id": "eH_tcwuFbOob",
        "outputId": "a2e76ee7-bb95-487e-c594-b720aba3e15b"
      },
      "source": [
        "classifier.fit(X_train, y_train)\n",
        "pred = classifier.predict(X_test)\n",
        "score = metrics.accuracy_score(y_test, pred)\n",
        "score"
      ],
      "execution_count": 53,
      "outputs": [
        {
          "output_type": "execute_result",
          "data": {
            "text/plain": [
              "0.8929384965831435"
            ]
          },
          "metadata": {
            "tags": []
          },
          "execution_count": 53
        }
      ]
    },
    {
      "cell_type": "code",
      "metadata": {
        "execution": {
          "iopub.execute_input": "2021-03-21T09:20:05.908421Z",
          "iopub.status.busy": "2021-03-21T09:20:05.907711Z",
          "iopub.status.idle": "2021-03-21T09:20:05.913742Z",
          "shell.execute_reply": "2021-03-21T09:20:05.912997Z"
        },
        "papermill": {
          "duration": 0.044297,
          "end_time": "2021-03-21T09:20:05.913908",
          "exception": false,
          "start_time": "2021-03-21T09:20:05.869611",
          "status": "completed"
        },
        "tags": [],
        "colab": {
          "base_uri": "https://localhost:8080/"
        },
        "id": "JAj-Cr3dbOoc",
        "outputId": "baf5e810-9baf-40c9-990c-bb0018203344"
      },
      "source": [
        "y_train.shape"
      ],
      "execution_count": 54,
      "outputs": [
        {
          "output_type": "execute_result",
          "data": {
            "text/plain": [
              "(2671,)"
            ]
          },
          "metadata": {
            "tags": []
          },
          "execution_count": 54
        }
      ]
    },
    {
      "cell_type": "code",
      "metadata": {
        "execution": {
          "iopub.execute_input": "2021-03-21T09:20:05.986657Z",
          "iopub.status.busy": "2021-03-21T09:20:05.985804Z",
          "iopub.status.idle": "2021-03-21T09:20:05.989051Z",
          "shell.execute_reply": "2021-03-21T09:20:05.988414Z"
        },
        "papermill": {
          "duration": 0.042196,
          "end_time": "2021-03-21T09:20:05.989224",
          "exception": false,
          "start_time": "2021-03-21T09:20:05.947028",
          "status": "completed"
        },
        "tags": [],
        "id": "0kOYg8BMbOoc"
      },
      "source": [
        "from sklearn.linear_model import PassiveAggressiveClassifier\n",
        "linear_clf = PassiveAggressiveClassifier(n_iter_no_change=50)"
      ],
      "execution_count": 55,
      "outputs": []
    },
    {
      "cell_type": "code",
      "metadata": {
        "execution": {
          "iopub.execute_input": "2021-03-21T09:20:06.063645Z",
          "iopub.status.busy": "2021-03-21T09:20:06.062899Z",
          "iopub.status.idle": "2021-03-21T09:20:08.745478Z",
          "shell.execute_reply": "2021-03-21T09:20:08.744891Z"
        },
        "papermill": {
          "duration": 2.722225,
          "end_time": "2021-03-21T09:20:08.745638",
          "exception": false,
          "start_time": "2021-03-21T09:20:06.023413",
          "status": "completed"
        },
        "tags": [],
        "colab": {
          "base_uri": "https://localhost:8080/",
          "height": 345
        },
        "id": "olQ8hYQ_bOoc",
        "outputId": "552b5476-35ba-4bc9-bdb3-9428e6d56c09"
      },
      "source": [
        "linear_clf.fit(X_train, y_train)\n",
        "pred = linear_clf.predict(X_test)\n",
        "score = metrics.accuracy_score(y_test, pred)\n",
        "print(\"accuracy:   %0.3f\" % score)\n",
        "cm = metrics.confusion_matrix(y_test, pred)\n",
        "plot_confusion_matrix(cm, classes=['FAKE Data', 'REAL Data'])"
      ],
      "execution_count": 56,
      "outputs": [
        {
          "output_type": "stream",
          "text": [
            "accuracy:   0.987\n",
            "Confusion matrix, without normalization\n"
          ],
          "name": "stdout"
        },
        {
          "output_type": "display_data",
          "data": {
            "image/png": "[encoded data removed]",
            "text/plain": [
              "<Figure size 432x288 with 2 Axes>"
            ]
          },
          "metadata": {
            "tags": [],
            "needs_background": "light"
          }
        }
      ]
    },
    {
      "cell_type": "markdown",
      "metadata": {
        "papermill": {
          "duration": 0.035018,
          "end_time": "2021-03-21T09:20:08.815792",
          "exception": false,
          "start_time": "2021-03-21T09:20:08.780774",
          "status": "completed"
        },
        "tags": [],
        "id": "hxns7fvTbOoc"
      },
      "source": [
        "## PassiveAgressive classifier gives a higher score as compared to multinomialnb.\n",
        "\n"
      ]
    }
  ]
}