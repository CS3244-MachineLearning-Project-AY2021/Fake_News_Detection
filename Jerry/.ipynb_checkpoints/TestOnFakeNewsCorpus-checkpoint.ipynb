{
 "cells": [
  {
   "cell_type": "code",
   "execution_count": 2,
   "metadata": {},
   "outputs": [],
   "source": [
    "import pandas as pd\n",
    "import sklearn\n",
    "import numpy as np\n",
    "import os\n",
    "import random\n",
    "import csv\n",
    "import sys\n",
    "\n",
    "maxInt = sys.maxsize\n",
    "csv.field_size_limit(100000000)\n",
    "\n",
    "seed = 2\n",
    "random.seed(seed)"
   ]
  },
  {
   "cell_type": "code",
   "execution_count": 3,
   "metadata": {},
   "outputs": [],
   "source": [
    "# Ran into some trouble parsing\n",
    "# import dask\n",
    "# import dask.dataframe as dd\n",
    "# ddf = dd.read_csv('./work/Datasets/FakeNewsCorpus/news_cleaned_2018_02_13.csv', engine='python', encoding='utf-8', error_bad_lines=False, header=0, dtype={'type': str, 'content': str,'authors': str}, usecols=['type', 'content', 'authors'])\n",
    "\n",
    "# ddf = ddf[(ddf['type'] == 'fake') | (ddf['type'] == 'reliable')]\n",
    "\n",
    "# ddf.to_parquet('./work/cleaned_data_parquet')\n",
    "# print(\"DONE\")"
   ]
  },
  {
   "cell_type": "code",
   "execution_count": 8,
   "metadata": {},
   "outputs": [
    {
     "ename": "KeyboardInterrupt",
     "evalue": "",
     "output_type": "error",
     "traceback": [
      "\u001b[1;31m---------------------------------------------------------------------------\u001b[0m",
      "\u001b[1;31mKeyboardInterrupt\u001b[0m                         Traceback (most recent call last)",
      "\u001b[1;32m<ipython-input-8-ca0af4d7fe1a>\u001b[0m in \u001b[0;36m<module>\u001b[1;34m\u001b[0m\n\u001b[0;32m      3\u001b[0m \u001b[0mcsv_iter\u001b[0m \u001b[1;33m=\u001b[0m \u001b[0mpd\u001b[0m\u001b[1;33m.\u001b[0m\u001b[0mread_csv\u001b[0m\u001b[1;33m(\u001b[0m\u001b[1;34m'../Datasets/FakeNewsCorpus/news_cleaned_2018_02_13.csv'\u001b[0m\u001b[1;33m,\u001b[0m \u001b[0mengine\u001b[0m\u001b[1;33m=\u001b[0m\u001b[1;34m'python'\u001b[0m\u001b[1;33m,\u001b[0m \u001b[0miterator\u001b[0m\u001b[1;33m=\u001b[0m\u001b[1;32mTrue\u001b[0m\u001b[1;33m,\u001b[0m \u001b[0mchunksize\u001b[0m\u001b[1;33m=\u001b[0m\u001b[1;36m50000\u001b[0m\u001b[1;33m,\u001b[0m \u001b[0mencoding\u001b[0m\u001b[1;33m=\u001b[0m\u001b[1;34m'utf-8'\u001b[0m\u001b[1;33m,\u001b[0m \u001b[0mheader\u001b[0m\u001b[1;33m=\u001b[0m\u001b[1;36m0\u001b[0m\u001b[1;33m,\u001b[0m \u001b[0merror_bad_lines\u001b[0m\u001b[1;33m=\u001b[0m\u001b[1;32mFalse\u001b[0m\u001b[1;33m,\u001b[0m \u001b[0mdtype\u001b[0m\u001b[1;33m=\u001b[0m\u001b[1;33m{\u001b[0m\u001b[1;34m'type'\u001b[0m\u001b[1;33m:\u001b[0m \u001b[0mstr\u001b[0m\u001b[1;33m,\u001b[0m \u001b[1;34m'content'\u001b[0m\u001b[1;33m:\u001b[0m \u001b[0mstr\u001b[0m\u001b[1;33m,\u001b[0m\u001b[1;34m'authors'\u001b[0m\u001b[1;33m:\u001b[0m \u001b[0mstr\u001b[0m\u001b[1;33m}\u001b[0m\u001b[1;33m)\u001b[0m\u001b[1;33m\u001b[0m\u001b[1;33m\u001b[0m\u001b[0m\n\u001b[0;32m      4\u001b[0m \u001b[1;33m\u001b[0m\u001b[0m\n\u001b[1;32m----> 5\u001b[1;33m \u001b[1;32mfor\u001b[0m \u001b[0msingle_df\u001b[0m \u001b[1;32min\u001b[0m \u001b[0mcsv_iter\u001b[0m\u001b[1;33m:\u001b[0m\u001b[1;33m\u001b[0m\u001b[1;33m\u001b[0m\u001b[0m\n\u001b[0m\u001b[0;32m      6\u001b[0m     \u001b[0msingle_df\u001b[0m \u001b[1;33m=\u001b[0m \u001b[0msingle_df\u001b[0m\u001b[1;33m[\u001b[0m\u001b[1;33m(\u001b[0m\u001b[0msingle_df\u001b[0m\u001b[1;33m.\u001b[0m\u001b[0mtype\u001b[0m \u001b[1;33m==\u001b[0m \u001b[1;34m'fake'\u001b[0m\u001b[1;33m)\u001b[0m \u001b[1;33m|\u001b[0m \u001b[1;33m(\u001b[0m\u001b[0msingle_df\u001b[0m\u001b[1;33m.\u001b[0m\u001b[0mtype\u001b[0m \u001b[1;33m==\u001b[0m \u001b[1;34m'reliable'\u001b[0m\u001b[1;33m)\u001b[0m \u001b[1;33m|\u001b[0m \u001b[1;33m(\u001b[0m\u001b[0msingle_df\u001b[0m\u001b[1;33m.\u001b[0m\u001b[0mtype\u001b[0m \u001b[1;33m==\u001b[0m \u001b[1;34m'political'\u001b[0m\u001b[1;33m)\u001b[0m\u001b[1;33m]\u001b[0m\u001b[1;33m\u001b[0m\u001b[1;33m\u001b[0m\u001b[0m\n\u001b[0;32m      7\u001b[0m     \u001b[0msingle_df\u001b[0m\u001b[1;33m[\u001b[0m\u001b[1;33m[\u001b[0m\u001b[1;34m'type'\u001b[0m\u001b[1;33m,\u001b[0m \u001b[1;34m'domain'\u001b[0m\u001b[1;33m]\u001b[0m\u001b[1;33m]\u001b[0m\u001b[1;33m.\u001b[0m\u001b[0mto_csv\u001b[0m\u001b[1;33m(\u001b[0m\u001b[1;34m'../Datasets/FakeNewsCorpus/cleaned_data_domain.csv'\u001b[0m\u001b[1;33m)\u001b[0m\u001b[1;33m\u001b[0m\u001b[1;33m\u001b[0m\u001b[0m\n",
      "\u001b[1;32md:\\python\\lib\\site-packages\\pandas\\io\\parsers.py\u001b[0m in \u001b[0;36m__next__\u001b[1;34m(self)\u001b[0m\n\u001b[0;32m   1032\u001b[0m     \u001b[1;32mdef\u001b[0m \u001b[0m__next__\u001b[0m\u001b[1;33m(\u001b[0m\u001b[0mself\u001b[0m\u001b[1;33m)\u001b[0m\u001b[1;33m:\u001b[0m\u001b[1;33m\u001b[0m\u001b[1;33m\u001b[0m\u001b[0m\n\u001b[0;32m   1033\u001b[0m         \u001b[1;32mtry\u001b[0m\u001b[1;33m:\u001b[0m\u001b[1;33m\u001b[0m\u001b[1;33m\u001b[0m\u001b[0m\n\u001b[1;32m-> 1034\u001b[1;33m             \u001b[1;32mreturn\u001b[0m \u001b[0mself\u001b[0m\u001b[1;33m.\u001b[0m\u001b[0mget_chunk\u001b[0m\u001b[1;33m(\u001b[0m\u001b[1;33m)\u001b[0m\u001b[1;33m\u001b[0m\u001b[1;33m\u001b[0m\u001b[0m\n\u001b[0m\u001b[0;32m   1035\u001b[0m         \u001b[1;32mexcept\u001b[0m \u001b[0mStopIteration\u001b[0m\u001b[1;33m:\u001b[0m\u001b[1;33m\u001b[0m\u001b[1;33m\u001b[0m\u001b[0m\n\u001b[0;32m   1036\u001b[0m             \u001b[0mself\u001b[0m\u001b[1;33m.\u001b[0m\u001b[0mclose\u001b[0m\u001b[1;33m(\u001b[0m\u001b[1;33m)\u001b[0m\u001b[1;33m\u001b[0m\u001b[1;33m\u001b[0m\u001b[0m\n",
      "\u001b[1;32md:\\python\\lib\\site-packages\\pandas\\io\\parsers.py\u001b[0m in \u001b[0;36mget_chunk\u001b[1;34m(self, size)\u001b[0m\n\u001b[0;32m   1082\u001b[0m                 \u001b[1;32mraise\u001b[0m \u001b[0mStopIteration\u001b[0m\u001b[1;33m\u001b[0m\u001b[1;33m\u001b[0m\u001b[0m\n\u001b[0;32m   1083\u001b[0m             \u001b[0msize\u001b[0m \u001b[1;33m=\u001b[0m \u001b[0mmin\u001b[0m\u001b[1;33m(\u001b[0m\u001b[0msize\u001b[0m\u001b[1;33m,\u001b[0m \u001b[0mself\u001b[0m\u001b[1;33m.\u001b[0m\u001b[0mnrows\u001b[0m \u001b[1;33m-\u001b[0m \u001b[0mself\u001b[0m\u001b[1;33m.\u001b[0m\u001b[0m_currow\u001b[0m\u001b[1;33m)\u001b[0m\u001b[1;33m\u001b[0m\u001b[1;33m\u001b[0m\u001b[0m\n\u001b[1;32m-> 1084\u001b[1;33m         \u001b[1;32mreturn\u001b[0m \u001b[0mself\u001b[0m\u001b[1;33m.\u001b[0m\u001b[0mread\u001b[0m\u001b[1;33m(\u001b[0m\u001b[0mnrows\u001b[0m\u001b[1;33m=\u001b[0m\u001b[0msize\u001b[0m\u001b[1;33m)\u001b[0m\u001b[1;33m\u001b[0m\u001b[1;33m\u001b[0m\u001b[0m\n\u001b[0m\u001b[0;32m   1085\u001b[0m \u001b[1;33m\u001b[0m\u001b[0m\n\u001b[0;32m   1086\u001b[0m     \u001b[1;32mdef\u001b[0m \u001b[0m__enter__\u001b[0m\u001b[1;33m(\u001b[0m\u001b[0mself\u001b[0m\u001b[1;33m)\u001b[0m\u001b[1;33m:\u001b[0m\u001b[1;33m\u001b[0m\u001b[1;33m\u001b[0m\u001b[0m\n",
      "\u001b[1;32md:\\python\\lib\\site-packages\\pandas\\io\\parsers.py\u001b[0m in \u001b[0;36mread\u001b[1;34m(self, nrows)\u001b[0m\n\u001b[0;32m   1055\u001b[0m     \u001b[1;32mdef\u001b[0m \u001b[0mread\u001b[0m\u001b[1;33m(\u001b[0m\u001b[0mself\u001b[0m\u001b[1;33m,\u001b[0m \u001b[0mnrows\u001b[0m\u001b[1;33m=\u001b[0m\u001b[1;32mNone\u001b[0m\u001b[1;33m)\u001b[0m\u001b[1;33m:\u001b[0m\u001b[1;33m\u001b[0m\u001b[1;33m\u001b[0m\u001b[0m\n\u001b[0;32m   1056\u001b[0m         \u001b[0mnrows\u001b[0m \u001b[1;33m=\u001b[0m \u001b[0mvalidate_integer\u001b[0m\u001b[1;33m(\u001b[0m\u001b[1;34m\"nrows\"\u001b[0m\u001b[1;33m,\u001b[0m \u001b[0mnrows\u001b[0m\u001b[1;33m)\u001b[0m\u001b[1;33m\u001b[0m\u001b[1;33m\u001b[0m\u001b[0m\n\u001b[1;32m-> 1057\u001b[1;33m         \u001b[0mindex\u001b[0m\u001b[1;33m,\u001b[0m \u001b[0mcolumns\u001b[0m\u001b[1;33m,\u001b[0m \u001b[0mcol_dict\u001b[0m \u001b[1;33m=\u001b[0m \u001b[0mself\u001b[0m\u001b[1;33m.\u001b[0m\u001b[0m_engine\u001b[0m\u001b[1;33m.\u001b[0m\u001b[0mread\u001b[0m\u001b[1;33m(\u001b[0m\u001b[0mnrows\u001b[0m\u001b[1;33m)\u001b[0m\u001b[1;33m\u001b[0m\u001b[1;33m\u001b[0m\u001b[0m\n\u001b[0m\u001b[0;32m   1058\u001b[0m \u001b[1;33m\u001b[0m\u001b[0m\n\u001b[0;32m   1059\u001b[0m         \u001b[1;32mif\u001b[0m \u001b[0mindex\u001b[0m \u001b[1;32mis\u001b[0m \u001b[1;32mNone\u001b[0m\u001b[1;33m:\u001b[0m\u001b[1;33m\u001b[0m\u001b[1;33m\u001b[0m\u001b[0m\n",
      "\u001b[1;32md:\\python\\lib\\site-packages\\pandas\\io\\parsers.py\u001b[0m in \u001b[0;36mread\u001b[1;34m(self, rows)\u001b[0m\n\u001b[0;32m   2463\u001b[0m     \u001b[1;32mdef\u001b[0m \u001b[0mread\u001b[0m\u001b[1;33m(\u001b[0m\u001b[0mself\u001b[0m\u001b[1;33m,\u001b[0m \u001b[0mrows\u001b[0m\u001b[1;33m=\u001b[0m\u001b[1;32mNone\u001b[0m\u001b[1;33m)\u001b[0m\u001b[1;33m:\u001b[0m\u001b[1;33m\u001b[0m\u001b[1;33m\u001b[0m\u001b[0m\n\u001b[0;32m   2464\u001b[0m         \u001b[1;32mtry\u001b[0m\u001b[1;33m:\u001b[0m\u001b[1;33m\u001b[0m\u001b[1;33m\u001b[0m\u001b[0m\n\u001b[1;32m-> 2465\u001b[1;33m             \u001b[0mcontent\u001b[0m \u001b[1;33m=\u001b[0m \u001b[0mself\u001b[0m\u001b[1;33m.\u001b[0m\u001b[0m_get_lines\u001b[0m\u001b[1;33m(\u001b[0m\u001b[0mrows\u001b[0m\u001b[1;33m)\u001b[0m\u001b[1;33m\u001b[0m\u001b[1;33m\u001b[0m\u001b[0m\n\u001b[0m\u001b[0;32m   2466\u001b[0m         \u001b[1;32mexcept\u001b[0m \u001b[0mStopIteration\u001b[0m\u001b[1;33m:\u001b[0m\u001b[1;33m\u001b[0m\u001b[1;33m\u001b[0m\u001b[0m\n\u001b[0;32m   2467\u001b[0m             \u001b[1;32mif\u001b[0m \u001b[0mself\u001b[0m\u001b[1;33m.\u001b[0m\u001b[0m_first_chunk\u001b[0m\u001b[1;33m:\u001b[0m\u001b[1;33m\u001b[0m\u001b[1;33m\u001b[0m\u001b[0m\n",
      "\u001b[1;32md:\\python\\lib\\site-packages\\pandas\\io\\parsers.py\u001b[0m in \u001b[0;36m_get_lines\u001b[1;34m(self, rows)\u001b[0m\n\u001b[0;32m   3259\u001b[0m                             \u001b[1;31m# error in next\u001b[0m\u001b[1;33m\u001b[0m\u001b[1;33m\u001b[0m\u001b[1;33m\u001b[0m\u001b[0m\n\u001b[0;32m   3260\u001b[0m                             \u001b[1;32massert\u001b[0m \u001b[0mself\u001b[0m\u001b[1;33m.\u001b[0m\u001b[0mdata\u001b[0m \u001b[1;32mis\u001b[0m \u001b[1;32mnot\u001b[0m \u001b[1;32mNone\u001b[0m\u001b[1;33m\u001b[0m\u001b[1;33m\u001b[0m\u001b[0m\n\u001b[1;32m-> 3261\u001b[1;33m                             \u001b[0mnew_rows\u001b[0m\u001b[1;33m.\u001b[0m\u001b[0mappend\u001b[0m\u001b[1;33m(\u001b[0m\u001b[0mnext\u001b[0m\u001b[1;33m(\u001b[0m\u001b[0mself\u001b[0m\u001b[1;33m.\u001b[0m\u001b[0mdata\u001b[0m\u001b[1;33m)\u001b[0m\u001b[1;33m)\u001b[0m\u001b[1;33m\u001b[0m\u001b[1;33m\u001b[0m\u001b[0m\n\u001b[0m\u001b[0;32m   3262\u001b[0m                         \u001b[0mlines\u001b[0m\u001b[1;33m.\u001b[0m\u001b[0mextend\u001b[0m\u001b[1;33m(\u001b[0m\u001b[0mnew_rows\u001b[0m\u001b[1;33m)\u001b[0m\u001b[1;33m\u001b[0m\u001b[1;33m\u001b[0m\u001b[0m\n\u001b[0;32m   3263\u001b[0m                     \u001b[1;32melse\u001b[0m\u001b[1;33m:\u001b[0m\u001b[1;33m\u001b[0m\u001b[1;33m\u001b[0m\u001b[0m\n",
      "\u001b[1;32md:\\python\\lib\\codecs.py\u001b[0m in \u001b[0;36mdecode\u001b[1;34m(self, input, final)\u001b[0m\n\u001b[0;32m    317\u001b[0m         \u001b[1;32mraise\u001b[0m \u001b[0mNotImplementedError\u001b[0m\u001b[1;33m\u001b[0m\u001b[1;33m\u001b[0m\u001b[0m\n\u001b[0;32m    318\u001b[0m \u001b[1;33m\u001b[0m\u001b[0m\n\u001b[1;32m--> 319\u001b[1;33m     \u001b[1;32mdef\u001b[0m \u001b[0mdecode\u001b[0m\u001b[1;33m(\u001b[0m\u001b[0mself\u001b[0m\u001b[1;33m,\u001b[0m \u001b[0minput\u001b[0m\u001b[1;33m,\u001b[0m \u001b[0mfinal\u001b[0m\u001b[1;33m=\u001b[0m\u001b[1;32mFalse\u001b[0m\u001b[1;33m)\u001b[0m\u001b[1;33m:\u001b[0m\u001b[1;33m\u001b[0m\u001b[1;33m\u001b[0m\u001b[0m\n\u001b[0m\u001b[0;32m    320\u001b[0m         \u001b[1;31m# decode input (taking the buffer into account)\u001b[0m\u001b[1;33m\u001b[0m\u001b[1;33m\u001b[0m\u001b[1;33m\u001b[0m\u001b[0m\n\u001b[0;32m    321\u001b[0m         \u001b[0mdata\u001b[0m \u001b[1;33m=\u001b[0m \u001b[0mself\u001b[0m\u001b[1;33m.\u001b[0m\u001b[0mbuffer\u001b[0m \u001b[1;33m+\u001b[0m \u001b[0minput\u001b[0m\u001b[1;33m\u001b[0m\u001b[1;33m\u001b[0m\u001b[0m\n",
      "\u001b[1;31mKeyboardInterrupt\u001b[0m: "
     ]
    }
   ],
   "source": [
    "# Extract out only fake and reliable labelled data\n",
    "\n",
    "csv_iter = pd.read_csv('../Datasets/FakeNewsCorpus/news_cleaned_2018_02_13.csv', engine='python', iterator=True, chunksize=50000, encoding='utf-8', header=0, error_bad_lines=False, dtype={'type': str, 'content': str,'authors': str})\n",
    "\n",
    "for single_df in csv_iter:\n",
    "    single_df = single_df[(single_df.type == 'fake') | (single_df.type == 'reliable') | (single_df.type == 'political')]\n",
    "    single_df[['type', 'domain']].to_csv('../Datasets/FakeNewsCorpus/cleaned_data_domain.csv', mode='a')\n",
    "    single_df[['type', 'authors']].to_csv('../Datasets/FakeNewsCorpus/cleaned_data_authors.csv', mode='a')\n",
    "    single_df[['type', 'title']].to_csv('../Datasets/FakeNewsCorpus/cleaned_data_titles.csv', mode='a')\n",
    "\n",
    "print(\"DONE\")"
   ]
  },
  {
   "cell_type": "code",
   "execution_count": 2,
   "metadata": {},
   "outputs": [
    {
     "data": {
      "text/html": [
       "<div>\n",
       "<style scoped>\n",
       "    .dataframe tbody tr th:only-of-type {\n",
       "        vertical-align: middle;\n",
       "    }\n",
       "\n",
       "    .dataframe tbody tr th {\n",
       "        vertical-align: top;\n",
       "    }\n",
       "\n",
       "    .dataframe thead th {\n",
       "        text-align: right;\n",
       "    }\n",
       "</style>\n",
       "<table border=\"1\" class=\"dataframe\">\n",
       "  <thead>\n",
       "    <tr style=\"text-align: right;\">\n",
       "      <th></th>\n",
       "      <th>id</th>\n",
       "      <th>type</th>\n",
       "      <th>content</th>\n",
       "      <th>authors</th>\n",
       "    </tr>\n",
       "  </thead>\n",
       "  <tbody>\n",
       "    <tr>\n",
       "      <th>0</th>\n",
       "      <td>27</td>\n",
       "      <td>fake</td>\n",
       "      <td>Headline: Bitcoin &amp; Blockchain Searches Exceed...</td>\n",
       "      <td>The Pirate'S Cove</td>\n",
       "    </tr>\n",
       "    <tr>\n",
       "      <th>1</th>\n",
       "      <td>28</td>\n",
       "      <td>fake</td>\n",
       "      <td>Water Cooler 1/25/18 Open Thread; Fake News ? ...</td>\n",
       "      <td>NaN</td>\n",
       "    </tr>\n",
       "    <tr>\n",
       "      <th>2</th>\n",
       "      <td>29</td>\n",
       "      <td>fake</td>\n",
       "      <td>Veteran Commentator Calls Out the Growing “Eth...</td>\n",
       "      <td>NaN</td>\n",
       "    </tr>\n",
       "    <tr>\n",
       "      <th>3</th>\n",
       "      <td>30</td>\n",
       "      <td>fake</td>\n",
       "      <td>Lost Words, Hidden Words, Otters, Banks and Bo...</td>\n",
       "      <td>Jackie Morris Artist</td>\n",
       "    </tr>\n",
       "    <tr>\n",
       "      <th>4</th>\n",
       "      <td>31</td>\n",
       "      <td>fake</td>\n",
       "      <td>Red Alert: Bond Yields Are SCREAMING “Inflatio...</td>\n",
       "      <td>Phoenix Capital Research</td>\n",
       "    </tr>\n",
       "    <tr>\n",
       "      <th>5</th>\n",
       "      <td>32</td>\n",
       "      <td>fake</td>\n",
       "      <td>Scientists move Doomsday Clock ahead by 30 sec...</td>\n",
       "      <td>Desdemona Despair</td>\n",
       "    </tr>\n",
       "    <tr>\n",
       "      <th>6</th>\n",
       "      <td>33</td>\n",
       "      <td>fake</td>\n",
       "      <td>Why Sandwiches Must Be Banned\\n\\n% of readers ...</td>\n",
       "      <td>NaN</td>\n",
       "    </tr>\n",
       "    <tr>\n",
       "      <th>7</th>\n",
       "      <td>34</td>\n",
       "      <td>fake</td>\n",
       "      <td>Poll: Calls for War From Israelis and Palestin...</td>\n",
       "      <td>NaN</td>\n",
       "    </tr>\n",
       "    <tr>\n",
       "      <th>8</th>\n",
       "      <td>42</td>\n",
       "      <td>reliable</td>\n",
       "      <td>Facebook/DestinyTheGame Promo image for \"Desti...</td>\n",
       "      <td>NaN</td>\n",
       "    </tr>\n",
       "    <tr>\n",
       "      <th>9</th>\n",
       "      <td>58</td>\n",
       "      <td>fake</td>\n",
       "      <td>Every college basketball fan knows all too wel...</td>\n",
       "      <td>Avid Sports Fan, Writer. Huge Fan Of The Oriol...</td>\n",
       "    </tr>\n",
       "  </tbody>\n",
       "</table>\n",
       "</div>"
      ],
      "text/plain": [
       "   id      type                                            content  \\\n",
       "0  27      fake  Headline: Bitcoin & Blockchain Searches Exceed...   \n",
       "1  28      fake  Water Cooler 1/25/18 Open Thread; Fake News ? ...   \n",
       "2  29      fake  Veteran Commentator Calls Out the Growing “Eth...   \n",
       "3  30      fake  Lost Words, Hidden Words, Otters, Banks and Bo...   \n",
       "4  31      fake  Red Alert: Bond Yields Are SCREAMING “Inflatio...   \n",
       "5  32      fake  Scientists move Doomsday Clock ahead by 30 sec...   \n",
       "6  33      fake  Why Sandwiches Must Be Banned\\n\\n% of readers ...   \n",
       "7  34      fake  Poll: Calls for War From Israelis and Palestin...   \n",
       "8  42  reliable  Facebook/DestinyTheGame Promo image for \"Desti...   \n",
       "9  58      fake  Every college basketball fan knows all too wel...   \n",
       "\n",
       "                                             authors  \n",
       "0                                  The Pirate'S Cove  \n",
       "1                                                NaN  \n",
       "2                                                NaN  \n",
       "3                               Jackie Morris Artist  \n",
       "4                           Phoenix Capital Research  \n",
       "5                                  Desdemona Despair  \n",
       "6                                                NaN  \n",
       "7                                                NaN  \n",
       "8                                                NaN  \n",
       "9  Avid Sports Fan, Writer. Huge Fan Of The Oriol...  "
      ]
     },
     "execution_count": 2,
     "metadata": {},
     "output_type": "execute_result"
    }
   ],
   "source": [
    "temp_df = pd.read_csv('./work/Datasets/FakeNewsCorpus/cleaned_data2.csv', engine='python', names=['id', 'type', 'content', 'authors'])\n",
    "temp_df.head(10)"
   ]
  },
  {
   "cell_type": "code",
   "execution_count": 9,
   "metadata": {},
   "outputs": [
    {
     "name": "stdout",
     "output_type": "stream",
     "text": [
      "<class 'pandas.core.frame.DataFrame'>\n",
      "Int64Index: 1735772 entries, 0 to 2807967\n",
      "Data columns (total 4 columns):\n",
      " #   Column   Dtype \n",
      "---  ------   ----- \n",
      " 0   id       int64 \n",
      " 1   type     object\n",
      " 2   content  object\n",
      " 3   authors  object\n",
      "dtypes: int64(1), object(3)\n",
      "memory usage: 66.2+ MB\n"
     ]
    }
   ],
   "source": [
    "temp_df = temp_df.dropna()\n",
    "temp_df.info()"
   ]
  },
  {
   "cell_type": "code",
   "execution_count": 10,
   "metadata": {},
   "outputs": [
    {
     "name": "stdout",
     "output_type": "stream",
     "text": [
      "Finished saving training and testing data\n"
     ]
    }
   ],
   "source": [
    "# Splitting dataframe into train and test dataframe\n",
    "from sklearn.model_selection import train_test_split\n",
    "\n",
    "train_df, test_df = train_test_split(temp_df, test_size=0.3, random_state=42)\n",
    "\n",
    "train_df.to_csv('./work/Datasets/FakeNewsCorpus/train_data.csv')\n",
    "test_df.to_csv('./work/Datasets/FakeNewsCorpus/test_data.csv')\n",
    "print(\"Finished saving training and testing data\")"
   ]
  },
  {
   "cell_type": "code",
   "execution_count": 11,
   "metadata": {},
   "outputs": [
    {
     "data": {
      "text/html": [
       "<div>\n",
       "<style scoped>\n",
       "    .dataframe tbody tr th:only-of-type {\n",
       "        vertical-align: middle;\n",
       "    }\n",
       "\n",
       "    .dataframe tbody tr th {\n",
       "        vertical-align: top;\n",
       "    }\n",
       "\n",
       "    .dataframe thead th {\n",
       "        text-align: right;\n",
       "    }\n",
       "</style>\n",
       "<table border=\"1\" class=\"dataframe\">\n",
       "  <thead>\n",
       "    <tr style=\"text-align: right;\">\n",
       "      <th></th>\n",
       "      <th>id</th>\n",
       "      <th>type</th>\n",
       "      <th>content</th>\n",
       "      <th>authors</th>\n",
       "    </tr>\n",
       "  </thead>\n",
       "  <tbody>\n",
       "    <tr>\n",
       "      <th>1969462</th>\n",
       "      <td>7690584</td>\n",
       "      <td>reliable</td>\n",
       "      <td>“On this issue, Democrats in the Senate start ...</td>\n",
       "      <td>Jeff Zeleny, Carl Hulse</td>\n",
       "    </tr>\n",
       "    <tr>\n",
       "      <th>2790161</th>\n",
       "      <td>8511283</td>\n",
       "      <td>reliable</td>\n",
       "      <td>Photo\\n\\nFor nearly a decade, Lindsey Vonn has...</td>\n",
       "      <td>Bill Pennington</td>\n",
       "    </tr>\n",
       "    <tr>\n",
       "      <th>945251</th>\n",
       "      <td>6666361</td>\n",
       "      <td>reliable</td>\n",
       "      <td>Chris Paul says his right shoulder is fine; he...</td>\n",
       "      <td>Broderick Turner</td>\n",
       "    </tr>\n",
       "    <tr>\n",
       "      <th>1984902</th>\n",
       "      <td>7706024</td>\n",
       "      <td>reliable</td>\n",
       "      <td>Elephantiasis causes one’s legs to become grot...</td>\n",
       "      <td>Nicholas Kristof</td>\n",
       "    </tr>\n",
       "    <tr>\n",
       "      <th>2564582</th>\n",
       "      <td>8285704</td>\n",
       "      <td>reliable</td>\n",
       "      <td>What they get, he went on, is “depth of flavor...</td>\n",
       "      <td>Jeff Gordinier</td>\n",
       "    </tr>\n",
       "    <tr>\n",
       "      <th>198168</th>\n",
       "      <td>2208918</td>\n",
       "      <td>fake</td>\n",
       "      <td>Athens: Fights Erupt Between Hoodies and Stude...</td>\n",
       "      <td>Wired Greek</td>\n",
       "    </tr>\n",
       "    <tr>\n",
       "      <th>2301661</th>\n",
       "      <td>8022783</td>\n",
       "      <td>reliable</td>\n",
       "      <td>Ronni Favors and Bill Colavito were married Sa...</td>\n",
       "      <td>Rosalie R. Radomsky</td>\n",
       "    </tr>\n",
       "    <tr>\n",
       "      <th>2666162</th>\n",
       "      <td>8387284</td>\n",
       "      <td>reliable</td>\n",
       "      <td>These incidents, and too many other serious in...</td>\n",
       "      <td>Ethan Bregman</td>\n",
       "    </tr>\n",
       "    <tr>\n",
       "      <th>1073174</th>\n",
       "      <td>6794286</td>\n",
       "      <td>reliable</td>\n",
       "      <td>ABC News' \"The Final Sprint\" features Tom Llam...</td>\n",
       "      <td>Abc News</td>\n",
       "    </tr>\n",
       "    <tr>\n",
       "      <th>2739691</th>\n",
       "      <td>8460813</td>\n",
       "      <td>reliable</td>\n",
       "      <td>But her journey doesn’t only reflect the advan...</td>\n",
       "      <td>Frank Bruni</td>\n",
       "    </tr>\n",
       "  </tbody>\n",
       "</table>\n",
       "</div>"
      ],
      "text/plain": [
       "              id      type                                            content  \\\n",
       "1969462  7690584  reliable  “On this issue, Democrats in the Senate start ...   \n",
       "2790161  8511283  reliable  Photo\\n\\nFor nearly a decade, Lindsey Vonn has...   \n",
       "945251   6666361  reliable  Chris Paul says his right shoulder is fine; he...   \n",
       "1984902  7706024  reliable  Elephantiasis causes one’s legs to become grot...   \n",
       "2564582  8285704  reliable  What they get, he went on, is “depth of flavor...   \n",
       "198168   2208918      fake  Athens: Fights Erupt Between Hoodies and Stude...   \n",
       "2301661  8022783  reliable  Ronni Favors and Bill Colavito were married Sa...   \n",
       "2666162  8387284  reliable  These incidents, and too many other serious in...   \n",
       "1073174  6794286  reliable  ABC News' \"The Final Sprint\" features Tom Llam...   \n",
       "2739691  8460813  reliable  But her journey doesn’t only reflect the advan...   \n",
       "\n",
       "                         authors  \n",
       "1969462  Jeff Zeleny, Carl Hulse  \n",
       "2790161          Bill Pennington  \n",
       "945251          Broderick Turner  \n",
       "1984902         Nicholas Kristof  \n",
       "2564582           Jeff Gordinier  \n",
       "198168               Wired Greek  \n",
       "2301661      Rosalie R. Radomsky  \n",
       "2666162            Ethan Bregman  \n",
       "1073174                 Abc News  \n",
       "2739691              Frank Bruni  "
      ]
     },
     "execution_count": 11,
     "metadata": {},
     "output_type": "execute_result"
    }
   ],
   "source": [
    "train_df.head(10)"
   ]
  },
  {
   "cell_type": "code",
   "execution_count": 12,
   "metadata": {},
   "outputs": [
    {
     "data": {
      "text/html": [
       "<div>\n",
       "<style scoped>\n",
       "    .dataframe tbody tr th:only-of-type {\n",
       "        vertical-align: middle;\n",
       "    }\n",
       "\n",
       "    .dataframe tbody tr th {\n",
       "        vertical-align: top;\n",
       "    }\n",
       "\n",
       "    .dataframe thead th {\n",
       "        text-align: right;\n",
       "    }\n",
       "</style>\n",
       "<table border=\"1\" class=\"dataframe\">\n",
       "  <thead>\n",
       "    <tr style=\"text-align: right;\">\n",
       "      <th></th>\n",
       "      <th>id</th>\n",
       "      <th>type</th>\n",
       "      <th>content</th>\n",
       "      <th>authors</th>\n",
       "    </tr>\n",
       "  </thead>\n",
       "  <tbody>\n",
       "    <tr>\n",
       "      <th>1833036</th>\n",
       "      <td>7554158</td>\n",
       "      <td>reliable</td>\n",
       "      <td>WASHINGTON, March 2 - Leaders of the House Int...</td>\n",
       "      <td>Eric Lichtblau</td>\n",
       "    </tr>\n",
       "    <tr>\n",
       "      <th>483060</th>\n",
       "      <td>3883047</td>\n",
       "      <td>fake</td>\n",
       "      <td>(Before It's News)\\n\\nThe Turkish government s...</td>\n",
       "      <td>Reason Magazine</td>\n",
       "    </tr>\n",
       "    <tr>\n",
       "      <th>2331574</th>\n",
       "      <td>8052696</td>\n",
       "      <td>reliable</td>\n",
       "      <td>Extra miles are also part of her nonwriting li...</td>\n",
       "      <td>Laurel Graeber</td>\n",
       "    </tr>\n",
       "    <tr>\n",
       "      <th>2100108</th>\n",
       "      <td>7821230</td>\n",
       "      <td>reliable</td>\n",
       "      <td>The gymnastics chickens still may come home to...</td>\n",
       "      <td>George Vecsey, Sports Of The Times</td>\n",
       "    </tr>\n",
       "    <tr>\n",
       "      <th>79038</th>\n",
       "      <td>536725</td>\n",
       "      <td>fake</td>\n",
       "      <td>\\n\\nIt is unclear how many undocumented immigr...</td>\n",
       "      <td>Retro Housewife</td>\n",
       "    </tr>\n",
       "    <tr>\n",
       "      <th>41116</th>\n",
       "      <td>80534</td>\n",
       "      <td>fake</td>\n",
       "      <td>Is There Something Else Going-On Many of Us ha...</td>\n",
       "      <td>Colonel Sixx</td>\n",
       "    </tr>\n",
       "    <tr>\n",
       "      <th>164924</th>\n",
       "      <td>1668017</td>\n",
       "      <td>fake</td>\n",
       "      <td>This Congressional Hearing Will Blow You Away!...</td>\n",
       "      <td>Patriarchate Of Moscow, All Russia</td>\n",
       "    </tr>\n",
       "    <tr>\n",
       "      <th>345226</th>\n",
       "      <td>3202369</td>\n",
       "      <td>fake</td>\n",
       "      <td>Incredible! Here's Why the Defecting NK Soldie...</td>\n",
       "      <td>Wels - Through My Bible On Streams</td>\n",
       "    </tr>\n",
       "    <tr>\n",
       "      <th>513393</th>\n",
       "      <td>4004240</td>\n",
       "      <td>fake</td>\n",
       "      <td>This Week in Guns 104 – Handgun Rights Victory...</td>\n",
       "      <td>Firearms Radio Network</td>\n",
       "    </tr>\n",
       "    <tr>\n",
       "      <th>82518</th>\n",
       "      <td>654243</td>\n",
       "      <td>fake</td>\n",
       "      <td>Stirling’s Formula!\\n\\nHeadline: Bitcoin &amp; Blo...</td>\n",
       "      <td>Bradley J Roth</td>\n",
       "    </tr>\n",
       "  </tbody>\n",
       "</table>\n",
       "</div>"
      ],
      "text/plain": [
       "              id      type                                            content  \\\n",
       "1833036  7554158  reliable  WASHINGTON, March 2 - Leaders of the House Int...   \n",
       "483060   3883047      fake  (Before It's News)\\n\\nThe Turkish government s...   \n",
       "2331574  8052696  reliable  Extra miles are also part of her nonwriting li...   \n",
       "2100108  7821230  reliable  The gymnastics chickens still may come home to...   \n",
       "79038     536725      fake  \\n\\nIt is unclear how many undocumented immigr...   \n",
       "41116      80534      fake  Is There Something Else Going-On Many of Us ha...   \n",
       "164924   1668017      fake  This Congressional Hearing Will Blow You Away!...   \n",
       "345226   3202369      fake  Incredible! Here's Why the Defecting NK Soldie...   \n",
       "513393   4004240      fake  This Week in Guns 104 – Handgun Rights Victory...   \n",
       "82518     654243      fake  Stirling’s Formula!\\n\\nHeadline: Bitcoin & Blo...   \n",
       "\n",
       "                                    authors  \n",
       "1833036                      Eric Lichtblau  \n",
       "483060                      Reason Magazine  \n",
       "2331574                      Laurel Graeber  \n",
       "2100108  George Vecsey, Sports Of The Times  \n",
       "79038                       Retro Housewife  \n",
       "41116                          Colonel Sixx  \n",
       "164924   Patriarchate Of Moscow, All Russia  \n",
       "345226   Wels - Through My Bible On Streams  \n",
       "513393               Firearms Radio Network  \n",
       "82518                        Bradley J Roth  "
      ]
     },
     "execution_count": 12,
     "metadata": {},
     "output_type": "execute_result"
    }
   ],
   "source": [
    "test_df.head(10)"
   ]
  },
  {
   "cell_type": "markdown",
   "metadata": {},
   "source": [
    "# NAIVE BAYES"
   ]
  },
  {
   "cell_type": "code",
   "execution_count": 13,
   "metadata": {},
   "outputs": [],
   "source": [
    "X_train = train_df['content']\n",
    "Y_train = train_df['type']\n",
    "X_test = test_df['content']\n",
    "Y_test = test_df['type']"
   ]
  },
  {
   "cell_type": "code",
   "execution_count": 14,
   "metadata": {},
   "outputs": [],
   "source": [
    "from sklearn.feature_extraction.text import TfidfVectorizer\n",
    "from sklearn.naive_bayes import MultinomialNB\n",
    "from sklearn.pipeline import Pipeline"
   ]
  },
  {
   "cell_type": "code",
   "execution_count": 15,
   "metadata": {},
   "outputs": [],
   "source": [
    "text_classification_model = Pipeline([('tfidf', TfidfVectorizer()), ('bayes', MultinomialNB())])"
   ]
  },
  {
   "cell_type": "code",
   "execution_count": 16,
   "metadata": {},
   "outputs": [],
   "source": [
    "text_classification_model = text_classification_model.fit(X_train, Y_train)"
   ]
  },
  {
   "cell_type": "code",
   "execution_count": 17,
   "metadata": {},
   "outputs": [
    {
     "data": {
      "text/plain": [
       "0.8802589431799851"
      ]
     },
     "execution_count": 17,
     "metadata": {},
     "output_type": "execute_result"
    }
   ],
   "source": [
    "predicted = text_classification_model.predict(X_test)\n",
    "np.mean(predicted==Y_test)"
   ]
  },
  {
   "cell_type": "markdown",
   "metadata": {},
   "source": [
    "# SVM"
   ]
  },
  {
   "cell_type": "code",
   "execution_count": 18,
   "metadata": {},
   "outputs": [],
   "source": [
    "from sklearn.linear_model import SGDClassifier\n",
    "tc_model_svm = Pipeline([('tfidf', TfidfVectorizer()), ('svm', SGDClassifier(loss='hinge', alpha=1e-3, penalty='l2',random_state=42))])\n",
    "tc_model_svm = tc_model_svm.fit(X_train, Y_train)"
   ]
  },
  {
   "cell_type": "code",
   "execution_count": 19,
   "metadata": {},
   "outputs": [
    {
     "data": {
      "text/plain": [
       "0.9114515720178518"
      ]
     },
     "execution_count": 19,
     "metadata": {},
     "output_type": "execute_result"
    }
   ],
   "source": [
    "predicted_svm = tc_model_svm.predict(X_test)\n",
    "np.mean(predicted_svm == Y_test)"
   ]
  },
  {
   "cell_type": "code",
   "execution_count": null,
   "metadata": {},
   "outputs": [],
   "source": []
  }
 ],
 "metadata": {
  "kernelspec": {
   "display_name": "Python 3",
   "language": "python",
   "name": "python3"
  },
  "language_info": {
   "codemirror_mode": {
    "name": "ipython",
    "version": 3
   },
   "file_extension": ".py",
   "mimetype": "text/x-python",
   "name": "python",
   "nbconvert_exporter": "python",
   "pygments_lexer": "ipython3",
   "version": "3.9.1"
  }
 },
 "nbformat": 4,
 "nbformat_minor": 2
}
