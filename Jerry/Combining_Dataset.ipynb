{
 "metadata": {
  "language_info": {
   "codemirror_mode": {
    "name": "ipython",
    "version": 3
   },
   "file_extension": ".py",
   "mimetype": "text/x-python",
   "name": "python",
   "nbconvert_exporter": "python",
   "pygments_lexer": "ipython3",
   "version": "3.9.1"
  },
  "orig_nbformat": 2,
  "kernelspec": {
   "name": "python3",
   "display_name": "Python 3",
   "language": "python"
  }
 },
 "nbformat": 4,
 "nbformat_minor": 2,
 "cells": [
  {
   "cell_type": "code",
   "execution_count": 1,
   "metadata": {},
   "outputs": [
    {
     "output_type": "execute_result",
     "data": {
      "text/plain": [
       "131072"
      ]
     },
     "metadata": {},
     "execution_count": 1
    }
   ],
   "source": [
    "import pandas as pd\n",
    "import os\n",
    "import csv\n",
    "import sys\n",
    "import numpy as np\n",
    "\n",
    "csv.field_size_limit(100000000)"
   ]
  },
  {
   "source": [
    "## Processing https://www.kaggle.com/jruvika/fake-news-detection Dataset into Combined Data"
   ],
   "cell_type": "markdown",
   "metadata": {}
  },
  {
   "cell_type": "code",
   "execution_count": 4,
   "metadata": {},
   "outputs": [
    {
     "output_type": "stream",
     "name": "stdout",
     "text": [
      "Done\n"
     ]
    }
   ],
   "source": [
    "from urllib.parse import urlparse\n",
    "\n",
    "jruvika_csv = pd.read_csv('./work/Datasets/Kaggle/Dataset_1/data.csv', engine='python')\n",
    "jruvika_csv.columns = ['url', 'title', 'content', 'label']\n",
    "jruvika_csv['label'] = np.where(jruvika_csv['label'] == 1, 'reliable', 'fake')\n",
    "\n",
    "# Extracting out domain from URL\n",
    "def extract_domain(url):\n",
    "    partialDomain = urlparse(url).netloc\n",
    "    return partialDomain.replace(\"www.\", \"\")\n",
    "jruvika_csv['domain'] = jruvika_csv['url'].apply(lambda x: extract_domain(x))\n",
    "\n",
    "jruvika_csv\n",
    "\n",
    "# Saving to CSV\n",
    "jruvika_csv.to_csv('./work/Datasets/Combined_Dataset/combined_data.csv', mode='a', index=False)\n",
    "\n",
    "print('Done')"
   ]
  },
  {
   "source": [
    "## Processing LIAR dataset\n",
    "### Some references to: https://towardsdatascience.com/identifying-fake-news-the-liar-dataset-713eca8af6ac"
   ],
   "cell_type": "markdown",
   "metadata": {}
  },
  {
   "cell_type": "code",
   "execution_count": 5,
   "metadata": {},
   "outputs": [
    {
     "output_type": "stream",
     "name": "stdout",
     "text": [
      "Done\n"
     ]
    }
   ],
   "source": [
    "liar_csv = pd.read_table('./work/Datasets/liar_dataset/train.tsv', names = ['id', 'label', 'statement', 'subject', 'speaker', 'job', 'state', 'party',\n",
    "                                            'barely-true', 'false', 'half-true', 'mostly-true', 'pants-fire', 'venue'])\n",
    "\n",
    "liar_csv = liar_csv.drop(columns=['id', 'subject', 'job', 'state', 'party', 'barely-true', 'false', 'half-true', 'mostly-true', 'pants-fire', 'venue'])\n",
    "\n",
    "liar_label_dict = {\n",
    "    \"pants-fire\" : 'fake', \n",
    "    \"false\" : 'fake', \n",
    "    \"barely-true\" : 'fake', \n",
    "    \"half-true\" : 'fake', \n",
    "    \"mostly-true\" : 'reliable', \n",
    "    \"true\" : 'reliable'\n",
    "}\n",
    "liar_csv['label'] = liar_csv['label'].apply(lambda x: liar_label_dict[x])\n",
    "\n",
    "\n",
    "liar_csv.to_csv('./work/Datasets/Combined_Dataset/truncated_liar_dataset.csv', mode='a', index=False)\n",
    "print(\"Done\")"
   ]
  },
  {
   "source": [
    "## Processing Fakenewscorpus Datas into Combined Data"
   ],
   "cell_type": "markdown",
   "metadata": {}
  },
  {
   "cell_type": "code",
   "execution_count": 3,
   "metadata": {},
   "outputs": [
    {
     "output_type": "stream",
     "name": "stdout",
     "text": [
      "FINSIHED WITH CORPUS DATA\n"
     ]
    }
   ],
   "source": [
    "fakenewscorpus_csv_iter = pd.read_csv('./work/Datasets/FakeNewsCorpus/news_cleaned_2018_02_13.csv', engine='python', iterator=True, chunksize=100000, encoding='utf-8', header=0, error_bad_lines=False)\n",
    "\n",
    "label_dict = {\n",
    "    'political': 'reliable',\n",
    "    'bias': 'fake',\n",
    "    'unreliable': 'fake',\n",
    "    'reliable': 'reliable',\n",
    "    'fake': 'fake'\n",
    "}\n",
    "\n",
    "for single_df in fakenewscorpus_csv_iter:\n",
    "    single_df = single_df[(single_df.type == 'fake') | (single_df.type == 'reliable') | (single_df.type == 'political') | (single_df.type == 'bias') | (single_df.type == 'unreliable')]\n",
    "\n",
    "    single_df.dropna()\n",
    "    single_df = single_df.rename({'type': 'label', 'authors': 'author'}, axis='columns')\n",
    "    single_df = single_df.drop(columns=['id', 'scraped_at', 'inserted_at', 'updated_at', 'keywords', 'meta_keywords', 'meta_description', 'tags', 'summary'])\n",
    "\n",
    "\n",
    "    single_df['label'] = single_df['label'].apply(lambda x: label_dict[x])\n",
    "    single_df.to_csv('./work/Datasets/Combined_Dataset/truncated_corpus.csv', mode='a')\n",
    "\n",
    "print(\"FINSIHED WITH CORPUS DATA\")"
   ]
  },
  {
   "source": [
    "# Please send help. Preprocessing data is a pain"
   ],
   "cell_type": "markdown",
   "metadata": {}
  },
  {
   "cell_type": "code",
   "execution_count": 2,
   "metadata": {},
   "outputs": [
    {
     "output_type": "execute_result",
     "data": {
      "text/plain": [
       "                                                    url  \\\n",
       "0     http://www.bbc.com/news/world-us-canada-414191...   \n",
       "1     https://www.reuters.com/article/us-filmfestiva...   \n",
       "2     https://www.nytimes.com/2017/10/09/us/politics...   \n",
       "3     https://www.reuters.com/article/us-mexico-oil-...   \n",
       "4     http://www.cnn.com/videos/cnnmoney/2017/10/08/...   \n",
       "...                                                 ...   \n",
       "8014  http://beforeitsnews.com/sports/2017/09/trends...   \n",
       "8015  http://beforeitsnews.com/u-s-politics/2017/10/...   \n",
       "8016  https://www.activistpost.com/2017/09/ron-paul-...   \n",
       "8017  https://www.reuters.com/article/us-china-pharm...   \n",
       "8018  http://beforeitsnews.com/u-s-politics/2017/10/...   \n",
       "\n",
       "                                                  title  \\\n",
       "0            Four ways Bob Corker skewered Donald Trump   \n",
       "1     Linklater's war veteran comedy speaks to moder...   \n",
       "2     Trump’s Fight With Corker Jeopardizes His Legi...   \n",
       "3     Egypt's Cheiron wins tie-up with Pemex for Mex...   \n",
       "4           Jason Aldean opens 'SNL' with Vegas tribute   \n",
       "...                                                 ...   \n",
       "8014                                    Trends to Watch   \n",
       "8015  Trump Jr. Is Soon To Give A 30-Minute Speech F...   \n",
       "8016        Ron Paul on Trump, Anarchism & the AltRight   \n",
       "8017  China to accept overseas trial data in bid to ...   \n",
       "8018  Vice President Mike Pence Leaves NFL Game Beca...   \n",
       "\n",
       "                                                content     label  \\\n",
       "0     Image copyright Getty Images\\nOn Sunday mornin...  reliable   \n",
       "1     LONDON (Reuters) - “Last Flag Flying”, a comed...  reliable   \n",
       "2     The feud broke into public view last week when...  reliable   \n",
       "3     MEXICO CITY (Reuters) - Egypt’s Cheiron Holdin...  reliable   \n",
       "4     Country singer Jason Aldean, who was performin...  reliable   \n",
       "...                                                 ...       ...   \n",
       "8014  Trends to Watch\\n% of readers think this story...      fake   \n",
       "8015  Trump Jr. Is Soon To Give A 30-Minute Speech F...      fake   \n",
       "8016                                                NaN      fake   \n",
       "8017  SHANGHAI (Reuters) - China said it plans to ac...  reliable   \n",
       "8018  Vice President Mike Pence Leaves NFL Game Beca...      fake   \n",
       "\n",
       "                 domain  \n",
       "0               bbc.com  \n",
       "1           reuters.com  \n",
       "2           nytimes.com  \n",
       "3           reuters.com  \n",
       "4               cnn.com  \n",
       "...                 ...  \n",
       "8014  beforeitsnews.com  \n",
       "8015  beforeitsnews.com  \n",
       "8016   activistpost.com  \n",
       "8017        reuters.com  \n",
       "8018  beforeitsnews.com  \n",
       "\n",
       "[8019 rows x 5 columns]"
      ],
      "text/html": "<div>\n<style scoped>\n    .dataframe tbody tr th:only-of-type {\n        vertical-align: middle;\n    }\n\n    .dataframe tbody tr th {\n        vertical-align: top;\n    }\n\n    .dataframe thead th {\n        text-align: right;\n    }\n</style>\n<table border=\"1\" class=\"dataframe\">\n  <thead>\n    <tr style=\"text-align: right;\">\n      <th></th>\n      <th>url</th>\n      <th>title</th>\n      <th>content</th>\n      <th>label</th>\n      <th>domain</th>\n    </tr>\n  </thead>\n  <tbody>\n    <tr>\n      <th>0</th>\n      <td>http://www.bbc.com/news/world-us-canada-414191...</td>\n      <td>Four ways Bob Corker skewered Donald Trump</td>\n      <td>Image copyright Getty Images\\nOn Sunday mornin...</td>\n      <td>reliable</td>\n      <td>bbc.com</td>\n    </tr>\n    <tr>\n      <th>1</th>\n      <td>https://www.reuters.com/article/us-filmfestiva...</td>\n      <td>Linklater's war veteran comedy speaks to moder...</td>\n      <td>LONDON (Reuters) - “Last Flag Flying”, a comed...</td>\n      <td>reliable</td>\n      <td>reuters.com</td>\n    </tr>\n    <tr>\n      <th>2</th>\n      <td>https://www.nytimes.com/2017/10/09/us/politics...</td>\n      <td>Trump’s Fight With Corker Jeopardizes His Legi...</td>\n      <td>The feud broke into public view last week when...</td>\n      <td>reliable</td>\n      <td>nytimes.com</td>\n    </tr>\n    <tr>\n      <th>3</th>\n      <td>https://www.reuters.com/article/us-mexico-oil-...</td>\n      <td>Egypt's Cheiron wins tie-up with Pemex for Mex...</td>\n      <td>MEXICO CITY (Reuters) - Egypt’s Cheiron Holdin...</td>\n      <td>reliable</td>\n      <td>reuters.com</td>\n    </tr>\n    <tr>\n      <th>4</th>\n      <td>http://www.cnn.com/videos/cnnmoney/2017/10/08/...</td>\n      <td>Jason Aldean opens 'SNL' with Vegas tribute</td>\n      <td>Country singer Jason Aldean, who was performin...</td>\n      <td>reliable</td>\n      <td>cnn.com</td>\n    </tr>\n    <tr>\n      <th>...</th>\n      <td>...</td>\n      <td>...</td>\n      <td>...</td>\n      <td>...</td>\n      <td>...</td>\n    </tr>\n    <tr>\n      <th>8014</th>\n      <td>http://beforeitsnews.com/sports/2017/09/trends...</td>\n      <td>Trends to Watch</td>\n      <td>Trends to Watch\\n% of readers think this story...</td>\n      <td>fake</td>\n      <td>beforeitsnews.com</td>\n    </tr>\n    <tr>\n      <th>8015</th>\n      <td>http://beforeitsnews.com/u-s-politics/2017/10/...</td>\n      <td>Trump Jr. Is Soon To Give A 30-Minute Speech F...</td>\n      <td>Trump Jr. Is Soon To Give A 30-Minute Speech F...</td>\n      <td>fake</td>\n      <td>beforeitsnews.com</td>\n    </tr>\n    <tr>\n      <th>8016</th>\n      <td>https://www.activistpost.com/2017/09/ron-paul-...</td>\n      <td>Ron Paul on Trump, Anarchism &amp; the AltRight</td>\n      <td>NaN</td>\n      <td>fake</td>\n      <td>activistpost.com</td>\n    </tr>\n    <tr>\n      <th>8017</th>\n      <td>https://www.reuters.com/article/us-china-pharm...</td>\n      <td>China to accept overseas trial data in bid to ...</td>\n      <td>SHANGHAI (Reuters) - China said it plans to ac...</td>\n      <td>reliable</td>\n      <td>reuters.com</td>\n    </tr>\n    <tr>\n      <th>8018</th>\n      <td>http://beforeitsnews.com/u-s-politics/2017/10/...</td>\n      <td>Vice President Mike Pence Leaves NFL Game Beca...</td>\n      <td>Vice President Mike Pence Leaves NFL Game Beca...</td>\n      <td>fake</td>\n      <td>beforeitsnews.com</td>\n    </tr>\n  </tbody>\n</table>\n<p>8019 rows × 5 columns</p>\n</div>"
     },
     "metadata": {},
     "execution_count": 2
    }
   ],
   "source": [
    "kaggle_csv = pd.read_csv('./work/Datasets/Combined_Dataset/combined_data.csv')\n",
    "kaggle_csv"
   ]
  },
  {
   "cell_type": "code",
   "execution_count": 3,
   "metadata": {},
   "outputs": [
    {
     "output_type": "execute_result",
     "data": {
      "text/plain": [
       "                                                    url  \\\n",
       "0     http://www.bbc.com/news/world-us-canada-414191...   \n",
       "1     https://www.reuters.com/article/us-filmfestiva...   \n",
       "2     https://www.nytimes.com/2017/10/09/us/politics...   \n",
       "3     https://www.reuters.com/article/us-mexico-oil-...   \n",
       "4     http://www.cnn.com/videos/cnnmoney/2017/10/08/...   \n",
       "...                                                 ...   \n",
       "8014  http://beforeitsnews.com/sports/2017/09/trends...   \n",
       "8015  http://beforeitsnews.com/u-s-politics/2017/10/...   \n",
       "8016  https://www.activistpost.com/2017/09/ron-paul-...   \n",
       "8017  https://www.reuters.com/article/us-china-pharm...   \n",
       "8018  http://beforeitsnews.com/u-s-politics/2017/10/...   \n",
       "\n",
       "                                                  title  \\\n",
       "0            Four ways Bob Corker skewered Donald Trump   \n",
       "1     Linklater's war veteran comedy speaks to moder...   \n",
       "2     Trump’s Fight With Corker Jeopardizes His Legi...   \n",
       "3     Egypt's Cheiron wins tie-up with Pemex for Mex...   \n",
       "4           Jason Aldean opens 'SNL' with Vegas tribute   \n",
       "...                                                 ...   \n",
       "8014                                    Trends to Watch   \n",
       "8015  Trump Jr. Is Soon To Give A 30-Minute Speech F...   \n",
       "8016        Ron Paul on Trump, Anarchism & the AltRight   \n",
       "8017  China to accept overseas trial data in bid to ...   \n",
       "8018  Vice President Mike Pence Leaves NFL Game Beca...   \n",
       "\n",
       "                                                content     label  \\\n",
       "0     Image copyright Getty Images\\nOn Sunday mornin...  reliable   \n",
       "1     LONDON (Reuters) - “Last Flag Flying”, a comed...  reliable   \n",
       "2     The feud broke into public view last week when...  reliable   \n",
       "3     MEXICO CITY (Reuters) - Egypt’s Cheiron Holdin...  reliable   \n",
       "4     Country singer Jason Aldean, who was performin...  reliable   \n",
       "...                                                 ...       ...   \n",
       "8014  Trends to Watch\\n% of readers think this story...      fake   \n",
       "8015  Trump Jr. Is Soon To Give A 30-Minute Speech F...      fake   \n",
       "8016                                                NaN      fake   \n",
       "8017  SHANGHAI (Reuters) - China said it plans to ac...  reliable   \n",
       "8018  Vice President Mike Pence Leaves NFL Game Beca...      fake   \n",
       "\n",
       "                 domain  \n",
       "0               bbc.com  \n",
       "1           reuters.com  \n",
       "2           nytimes.com  \n",
       "3           reuters.com  \n",
       "4               cnn.com  \n",
       "...                 ...  \n",
       "8014  beforeitsnews.com  \n",
       "8015  beforeitsnews.com  \n",
       "8016   activistpost.com  \n",
       "8017        reuters.com  \n",
       "8018  beforeitsnews.com  \n",
       "\n",
       "[8019 rows x 5 columns]"
      ],
      "text/html": "<div>\n<style scoped>\n    .dataframe tbody tr th:only-of-type {\n        vertical-align: middle;\n    }\n\n    .dataframe tbody tr th {\n        vertical-align: top;\n    }\n\n    .dataframe thead th {\n        text-align: right;\n    }\n</style>\n<table border=\"1\" class=\"dataframe\">\n  <thead>\n    <tr style=\"text-align: right;\">\n      <th></th>\n      <th>url</th>\n      <th>title</th>\n      <th>content</th>\n      <th>label</th>\n      <th>domain</th>\n    </tr>\n  </thead>\n  <tbody>\n    <tr>\n      <th>0</th>\n      <td>http://www.bbc.com/news/world-us-canada-414191...</td>\n      <td>Four ways Bob Corker skewered Donald Trump</td>\n      <td>Image copyright Getty Images\\nOn Sunday mornin...</td>\n      <td>reliable</td>\n      <td>bbc.com</td>\n    </tr>\n    <tr>\n      <th>1</th>\n      <td>https://www.reuters.com/article/us-filmfestiva...</td>\n      <td>Linklater's war veteran comedy speaks to moder...</td>\n      <td>LONDON (Reuters) - “Last Flag Flying”, a comed...</td>\n      <td>reliable</td>\n      <td>reuters.com</td>\n    </tr>\n    <tr>\n      <th>2</th>\n      <td>https://www.nytimes.com/2017/10/09/us/politics...</td>\n      <td>Trump’s Fight With Corker Jeopardizes His Legi...</td>\n      <td>The feud broke into public view last week when...</td>\n      <td>reliable</td>\n      <td>nytimes.com</td>\n    </tr>\n    <tr>\n      <th>3</th>\n      <td>https://www.reuters.com/article/us-mexico-oil-...</td>\n      <td>Egypt's Cheiron wins tie-up with Pemex for Mex...</td>\n      <td>MEXICO CITY (Reuters) - Egypt’s Cheiron Holdin...</td>\n      <td>reliable</td>\n      <td>reuters.com</td>\n    </tr>\n    <tr>\n      <th>4</th>\n      <td>http://www.cnn.com/videos/cnnmoney/2017/10/08/...</td>\n      <td>Jason Aldean opens 'SNL' with Vegas tribute</td>\n      <td>Country singer Jason Aldean, who was performin...</td>\n      <td>reliable</td>\n      <td>cnn.com</td>\n    </tr>\n    <tr>\n      <th>...</th>\n      <td>...</td>\n      <td>...</td>\n      <td>...</td>\n      <td>...</td>\n      <td>...</td>\n    </tr>\n    <tr>\n      <th>8014</th>\n      <td>http://beforeitsnews.com/sports/2017/09/trends...</td>\n      <td>Trends to Watch</td>\n      <td>Trends to Watch\\n% of readers think this story...</td>\n      <td>fake</td>\n      <td>beforeitsnews.com</td>\n    </tr>\n    <tr>\n      <th>8015</th>\n      <td>http://beforeitsnews.com/u-s-politics/2017/10/...</td>\n      <td>Trump Jr. Is Soon To Give A 30-Minute Speech F...</td>\n      <td>Trump Jr. Is Soon To Give A 30-Minute Speech F...</td>\n      <td>fake</td>\n      <td>beforeitsnews.com</td>\n    </tr>\n    <tr>\n      <th>8016</th>\n      <td>https://www.activistpost.com/2017/09/ron-paul-...</td>\n      <td>Ron Paul on Trump, Anarchism &amp; the AltRight</td>\n      <td>NaN</td>\n      <td>fake</td>\n      <td>activistpost.com</td>\n    </tr>\n    <tr>\n      <th>8017</th>\n      <td>https://www.reuters.com/article/us-china-pharm...</td>\n      <td>China to accept overseas trial data in bid to ...</td>\n      <td>SHANGHAI (Reuters) - China said it plans to ac...</td>\n      <td>reliable</td>\n      <td>reuters.com</td>\n    </tr>\n    <tr>\n      <th>8018</th>\n      <td>http://beforeitsnews.com/u-s-politics/2017/10/...</td>\n      <td>Vice President Mike Pence Leaves NFL Game Beca...</td>\n      <td>Vice President Mike Pence Leaves NFL Game Beca...</td>\n      <td>fake</td>\n      <td>beforeitsnews.com</td>\n    </tr>\n  </tbody>\n</table>\n<p>8019 rows × 5 columns</p>\n</div>"
     },
     "metadata": {},
     "execution_count": 3
    }
   ],
   "source": [
    "combined_df = pd.concat([kaggle_csv])\n",
    "combined_df"
   ]
  },
  {
   "cell_type": "code",
   "execution_count": 4,
   "metadata": {},
   "outputs": [
    {
     "output_type": "stream",
     "name": "stderr",
     "text": [
      "[nltk_data] Downloading package stopwords to /home/jovyan/nltk_data...\n[nltk_data]   Package stopwords is already up-to-date!\n"
     ]
    }
   ],
   "source": [
    "import nltk\n",
    "nltk.download('stopwords')\n",
    "from nltk.corpus import stopwords\n",
    "from nltk.stem.porter import PorterStemmer\n",
    "from nltk.tokenize import RegexpTokenizer\n",
    "import swifter\n",
    "import re\n",
    "\n",
    "ps = PorterStemmer()\n",
    "\n",
    "def clean_content(text):\n",
    "    text = re.sub(r\"http\\S+\", \"\", text)\n",
    "\n",
    "    # Tokenize and Remove non alphanumeric characters\n",
    "    tokenizer = RegexpTokenizer('\\w+|\\$[\\d\\.]+|\\S+')\n",
    "    tokens = tokenizer.tokenize(text)\n",
    "    allalpha_tokens = [word for word in tokens if word.isalpha()]\n",
    "\n",
    "    # Porter stemmer back to basic english words\n",
    "    words = [ps.stem(word) for word in allalpha_tokens if not word in stopwords.words('english')]\n",
    "    words = ' '.join(words)\n",
    "    return words \n",
    "    "
   ]
  },
  {
   "cell_type": "code",
   "execution_count": 5,
   "metadata": {},
   "outputs": [
    {
     "output_type": "display_data",
     "data": {
      "text/plain": "Pandas Apply:   0%|          | 0/7977 [00:00<?, ?it/s]",
      "application/vnd.jupyter.widget-view+json": {
       "version_major": 2,
       "version_minor": 0,
       "model_id": "15662f912420484bb6489fa9d392170c"
      }
     },
     "metadata": {}
    },
    {
     "output_type": "execute_result",
     "data": {
      "text/plain": [
       "                                                content     label\n",
       "0     imag copyright getti imag on sunday morn donal...  reliable\n",
       "1     london flag fli comedi vietnam war veteran res...  reliable\n",
       "2     the feud broke public view last week mr corker...  reliable\n",
       "3     mexico citi egypt cheiron hold limit right par...  reliable\n",
       "4     countri singer jason aldean perform la vega sh...  reliable\n",
       "...                                                 ...       ...\n",
       "7972  vietnam is great danger you must publish tell ...      fake\n",
       "7973  trend watch reader think stori fact add two ce...      fake\n",
       "7974  trump jr is soon to give a speech for reader t...      fake\n",
       "7975  shanghai china said plan accept data oversea c...  reliable\n",
       "7976  vice presid mike penc leav nfl game becaus ant...      fake\n",
       "\n",
       "[7977 rows x 2 columns]"
      ],
      "text/html": "<div>\n<style scoped>\n    .dataframe tbody tr th:only-of-type {\n        vertical-align: middle;\n    }\n\n    .dataframe tbody tr th {\n        vertical-align: top;\n    }\n\n    .dataframe thead th {\n        text-align: right;\n    }\n</style>\n<table border=\"1\" class=\"dataframe\">\n  <thead>\n    <tr style=\"text-align: right;\">\n      <th></th>\n      <th>content</th>\n      <th>label</th>\n    </tr>\n  </thead>\n  <tbody>\n    <tr>\n      <th>0</th>\n      <td>imag copyright getti imag on sunday morn donal...</td>\n      <td>reliable</td>\n    </tr>\n    <tr>\n      <th>1</th>\n      <td>london flag fli comedi vietnam war veteran res...</td>\n      <td>reliable</td>\n    </tr>\n    <tr>\n      <th>2</th>\n      <td>the feud broke public view last week mr corker...</td>\n      <td>reliable</td>\n    </tr>\n    <tr>\n      <th>3</th>\n      <td>mexico citi egypt cheiron hold limit right par...</td>\n      <td>reliable</td>\n    </tr>\n    <tr>\n      <th>4</th>\n      <td>countri singer jason aldean perform la vega sh...</td>\n      <td>reliable</td>\n    </tr>\n    <tr>\n      <th>...</th>\n      <td>...</td>\n      <td>...</td>\n    </tr>\n    <tr>\n      <th>7972</th>\n      <td>vietnam is great danger you must publish tell ...</td>\n      <td>fake</td>\n    </tr>\n    <tr>\n      <th>7973</th>\n      <td>trend watch reader think stori fact add two ce...</td>\n      <td>fake</td>\n    </tr>\n    <tr>\n      <th>7974</th>\n      <td>trump jr is soon to give a speech for reader t...</td>\n      <td>fake</td>\n    </tr>\n    <tr>\n      <th>7975</th>\n      <td>shanghai china said plan accept data oversea c...</td>\n      <td>reliable</td>\n    </tr>\n    <tr>\n      <th>7976</th>\n      <td>vice presid mike penc leav nfl game becaus ant...</td>\n      <td>fake</td>\n    </tr>\n  </tbody>\n</table>\n<p>7977 rows × 2 columns</p>\n</div>"
     },
     "metadata": {},
     "execution_count": 5
    }
   ],
   "source": [
    "combined_content_df = combined_df.drop(columns=['url', 'title', 'domain'])\n",
    "combined_content_df = combined_content_df.reset_index(drop=True)\n",
    "combined_content_df = combined_content_df.dropna()\n",
    "\n",
    "combined_content_df['content'] = combined_content_df['content'].swifter.apply(lambda x: clean_content(x))\n",
    "\n",
    "combined_content_df = combined_content_df.dropna()\n",
    "combined_content_df.reset_index(drop=True, inplace=True)\n",
    "combined_content_df.to_csv('./work/Datasets/Combined_Dataset/processed_content_large.csv', mode='a', index=False)\n",
    "\n",
    "combined_content_df"
   ]
  },
  {
   "cell_type": "code",
   "execution_count": 11,
   "metadata": {},
   "outputs": [
    {
     "output_type": "display_data",
     "data": {
      "text/plain": "Pandas Apply:   0%|          | 0/200000 [00:00<?, ?it/s]",
      "application/vnd.jupyter.widget-view+json": {
       "version_major": 2,
       "version_minor": 0,
       "model_id": "7af78d1728a94ebd9c14e7e79c76ce00"
      }
     },
     "metadata": {}
    }
   ],
   "source": [
    "fakenewscorpus_df_iter = pd.read_csv('./work/Datasets/Combined_Dataset/truncated_corpus.csv', engine='python', usecols=['label', 'content'], iterator=True, chunksize=200000, encoding='utf-8')\n",
    "\n",
    "# test = fakenewscorpus_df_iter.get_chunk(1000)\n",
    "\n",
    "for single_df in fakenewscorpus_df_iter:\n",
    "    single_df = single_df.dropna()\n",
    "    single_df['content'] = single_df['content'].swifter.apply(lambda x: clean_content(x))\n",
    "    single_df = single_df.dropna()\n",
    "    single_df.to_csv('./work/Datasets/Combined_Dataset/processed_content_large.csv', mode='a', index=False, header=False)\n",
    "\n",
    "print(\"Done concating to CSV file\")"
   ]
  }
 ]
}