{
 "cells": [
  {
   "cell_type": "code",
   "execution_count": 1,
   "metadata": {
    "colab": {
     "base_uri": "https://localhost:8080/",
     "height": 125
    },
    "colab_type": "code",
    "id": "leag2SIuKQ6H",
    "outputId": "ca500a9c-6c2b-47b1-8c45-ca6e649f9add"
   },
   "outputs": [],
   "source": [
    "# from google.colab import drive\n",
    "# drive.mount('/content/drive')"
   ]
  },
  {
   "cell_type": "code",
   "execution_count": 2,
   "metadata": {
    "colab": {
     "base_uri": "https://localhost:8080/",
     "height": 125
    },
    "colab_type": "code",
    "id": "RZPgJIeHd7Ki",
    "outputId": "c8cd8bfc-eb4b-45bc-b471-818c961de21b"
   },
   "outputs": [],
   "source": [
    "# !pip install --upgrade pandas\n",
    "\n",
    "#!pip install talos\n",
    "#!pip install statsmodels -U\n",
    "#!pip install --upgrade pytest"
   ]
  },
  {
   "cell_type": "code",
   "execution_count": 3,
   "metadata": {
    "colab": {
     "base_uri": "https://localhost:8080/",
     "height": 52
    },
    "colab_type": "code",
    "id": "HSTFCp3TLOyY",
    "outputId": "d776f3e7-af32-471b-9302-0b9c42b8f4c7"
   },
   "outputs": [],
   "source": [
    "# !ls \"drive/My Drive/Colab Notebooks/data\""
   ]
  },
  {
   "cell_type": "markdown",
   "metadata": {
    "colab_type": "text",
    "id": "L4ox1E4A-NIx"
   },
   "source": [
    "# Imports, loads , Train/test split and Optimum params\n",
    "---"
   ]
  },
  {
   "cell_type": "code",
   "execution_count": 4,
   "metadata": {
    "colab": {},
    "colab_type": "code",
    "id": "Pxs1baLTJsxl"
   },
   "outputs": [],
   "source": [
    "import pandas as pd\n",
    "import numpy as np\n",
    "\n",
    "#Progress bars\n",
    "from tqdm import tqdm\n",
    "tqdm.pandas()\n",
    "\n",
    "#Paralelize pandas apply on multiple cores\n",
    "#import swifter\n",
    "\n",
    "from matplotlib import pyplot as plt\n",
    "from matplotlib import style\n",
    "#Nicer style\n",
    "style.use('seaborn')\n",
    "import seaborn as sns\n",
    "\n",
    "from tensorflow import keras as k\n",
    "\n",
    "from sklearn.model_selection import train_test_split\n",
    "\n",
    "from gensim.models import KeyedVectors\n",
    "\n",
    "from sklearn.metrics import accuracy_score, confusion_matrix, classification_report"
   ]
  },
  {
   "cell_type": "code",
   "execution_count": 5,
   "metadata": {
    "colab": {},
    "colab_type": "code",
    "id": "E-i6JPxjKGaz"
   },
   "outputs": [],
   "source": [
    "data = pd.read_pickle('../data/news_proc_12_3_19.pickle')#.reset_index()\n",
    "data = data.dropna()"
   ]
  },
  {
   "cell_type": "markdown",
   "metadata": {
    "colab_type": "text",
    "id": "ytOekwMDE9Pi"
   },
   "source": [
    "Labels assigned to types "
   ]
  },
  {
   "cell_type": "code",
   "execution_count": 6,
   "metadata": {
    "colab": {
     "base_uri": "https://localhost:8080/",
     "height": 87
    },
    "colab_type": "code",
    "id": "oxDrPOrlCONc",
    "outputId": "004da2bf-160e-466a-c365-541c4635b402"
   },
   "outputs": [
    {
     "name": "stdout",
     "output_type": "stream",
     "text": [
      "bias - [1 0 0 0]\n",
      "click - [0 1 0 0]\n",
      "fake - [0 0 1 0]\n",
      "truth - [0 0 0 1]\n"
     ]
    }
   ],
   "source": [
    "types = data['type'].unique()\n",
    "for t in types:\n",
    "    print(\"{} - {}\".format(t, data[data['type'] == t].head(1)['one_hot_label'].iloc[0]))"
   ]
  },
  {
   "cell_type": "code",
   "execution_count": 7,
   "metadata": {
    "colab": {
     "base_uri": "https://localhost:8080/",
     "height": 52
    },
    "colab_type": "code",
    "id": "p2Rb1d_iMRo4",
    "outputId": "4cb68493-84f0-4468-ef8a-114a0fa275bf"
   },
   "outputs": [
    {
     "name": "stdout",
     "output_type": "stream",
     "text": [
      "Max len content: 1556\n",
      "Max len title: 14\n"
     ]
    }
   ],
   "source": [
    "len_content = len(data['content'][0])\n",
    "len_title = len(data['title'][0])\n",
    "\n",
    "print(\"Max len content: {}\".format(len_content))\n",
    "print(\"Max len title: {}\".format(len_title))"
   ]
  },
  {
   "cell_type": "code",
   "execution_count": null,
   "metadata": {
    "colab": {},
    "colab_type": "code",
    "id": "42yvXt6pdWtl"
   },
   "outputs": [],
   "source": []
  },
  {
   "cell_type": "code",
   "execution_count": 8,
   "metadata": {
    "colab": {},
    "colab_type": "code",
    "id": "obS9w_bsMeCf"
   },
   "outputs": [],
   "source": [
    "model = KeyedVectors.load_word2vec_format(\"../data/GoogleNews-vectors-negative300.bin.gz\", binary=True, limit=50000)"
   ]
  },
  {
   "cell_type": "code",
   "execution_count": 9,
   "metadata": {
    "colab": {},
    "colab_type": "code",
    "id": "kq7N1l62dYve"
   },
   "outputs": [],
   "source": [
    "embed_mat = np.zeros((50000,300))\n",
    "for i, e in model.vocab.items():\n",
    "    embed_mat[e.index] = model[i]"
   ]
  },
  {
   "cell_type": "markdown",
   "metadata": {
    "colab_type": "text",
    "id": "Wbfhe0Txddio"
   },
   "source": [
    "**Tran/valid/test split**"
   ]
  },
  {
   "cell_type": "code",
   "execution_count": 10,
   "metadata": {
    "colab": {},
    "colab_type": "code",
    "id": "cq-wi-x6ddtd"
   },
   "outputs": [],
   "source": [
    "#Train - test\n",
    "X_train, X_test, y_train, y_test = train_test_split(\n",
    "    data[['content', 'title']], data['one_hot_label'], test_size=0.3, random_state=1)\n",
    "\n",
    "#Train - valid\n",
    "X_train, X_valid, y_train, y_valid = train_test_split(\n",
    "    X_train, y_train, test_size=0.3, random_state=1)"
   ]
  },
  {
   "cell_type": "code",
   "execution_count": 11,
   "metadata": {
    "colab": {},
    "colab_type": "code",
    "id": "WxjsZziCddwE"
   },
   "outputs": [],
   "source": [
    "X_train_title = X_train['title']\n",
    "X_train_content = X_train['content']\n",
    "\n",
    "X_valid_title = X_valid['title']\n",
    "X_valid_content = X_valid['content']\n",
    "\n",
    "X_test_title = X_test['title']\n",
    "X_test_content = X_test['content']"
   ]
  },
  {
   "cell_type": "code",
   "execution_count": 12,
   "metadata": {
    "colab": {},
    "colab_type": "code",
    "id": "kOmvVOCofAl2"
   },
   "outputs": [],
   "source": [
    "train_fit = [np.asarray(X_train_title.tolist()), \n",
    "             np.asarray(X_train_content.tolist())]\n",
    "\n",
    "valid_fit = [np.asarray(X_valid_title.tolist()), \n",
    "             np.asarray(X_valid_content.tolist())]\n",
    "\n",
    "test_fit = [np.asarray(X_test_title.tolist()), \n",
    "             np.asarray(X_test_content.tolist())]"
   ]
  },
  {
   "cell_type": "code",
   "execution_count": 13,
   "metadata": {
    "colab": {},
    "colab_type": "code",
    "id": "Fiv0BWnBddy0"
   },
   "outputs": [],
   "source": [
    "del data\n",
    "del X_train_title, X_train_content\n",
    "del X_valid_title, X_valid_content\n",
    "del X_test_title, X_test_content"
   ]
  },
  {
   "cell_type": "code",
   "execution_count": null,
   "metadata": {
    "colab": {},
    "colab_type": "code",
    "id": "slVgLTa1HRmG"
   },
   "outputs": [],
   "source": []
  },
  {
   "cell_type": "markdown",
   "metadata": {
    "colab_type": "text",
    "id": "YwYAV_H128f6"
   },
   "source": [
    "## Optimum Params found with Bayesian Optimization"
   ]
  },
  {
   "cell_type": "code",
   "execution_count": 14,
   "metadata": {
    "colab": {},
    "colab_type": "code",
    "id": "xKsXmH1t3IkD"
   },
   "outputs": [],
   "source": [
    "\n",
    "# #Optimum params for CNN network\n",
    "# params_cnn = {\n",
    "#     'lr': 0.23993334664040306,\n",
    "#     'momentum': 0.30361299021107185,\n",
    "#     'dropout1': 0.10993063833594595,\n",
    "#     'dropout2': 0.1586041045258562,\n",
    "#     'filters1Title': 8,\n",
    "#     'denseTitle': 42,\n",
    "#     'filtersContent': 6,\n",
    "#     'denseContent': 34\n",
    "# }\n",
    "params_cnn = {\n",
    "    'lr': 0.4,\n",
    "    'momentum': 0.34376395524693715,\n",
    "    'dropout1': 0.22538075274187744,\n",
    "    'dropout2': 0.4,\n",
    "    'filters1Title': 5,\n",
    "    'denseTitle': 25,\n",
    "    'filtersContent': 5,\n",
    "    'denseContent': 28\n",
    "}"
   ]
  },
  {
   "cell_type": "code",
   "execution_count": 15,
   "metadata": {
    "colab": {},
    "colab_type": "code",
    "id": "vZEvZo6hLFG2"
   },
   "outputs": [],
   "source": [
    "#Some imports...\n",
    "import tensorflow as tf\n",
    "import os\n",
    "\n",
    "from numpy.random import seed\n",
    "# from tensorflow import set_random_seed"
   ]
  },
  {
   "cell_type": "markdown",
   "metadata": {
    "colab_type": "text",
    "id": "M1RK9vtpBVGd"
   },
   "source": [
    "# Convolutional networks"
   ]
  },
  {
   "cell_type": "code",
   "execution_count": 16,
   "metadata": {
    "colab": {},
    "colab_type": "code",
    "id": "hn15giBn6pSY"
   },
   "outputs": [],
   "source": [
    "seed(50)\n",
    "#     set_random_seed(50)\n",
    "tf.random.set_seed(50)\n",
    "k.backend.clear_session()"
   ]
  },
  {
   "cell_type": "code",
   "execution_count": 17,
   "metadata": {
    "colab": {
     "base_uri": "https://localhost:8080/",
     "height": 925
    },
    "colab_type": "code",
    "id": "bRjPd9pEBaxg",
    "outputId": "7ec545ce-efa3-4f8e-e8f7-15960ff73f54"
   },
   "outputs": [
    {
     "name": "stdout",
     "output_type": "stream",
     "text": [
      "Model: \"functional_1\"\n",
      "__________________________________________________________________________________________________\n",
      "Layer (type)                    Output Shape         Param #     Connected to                     \n",
      "==================================================================================================\n",
      "title_input (InputLayer)        [(None, 14)]         0                                            \n",
      "__________________________________________________________________________________________________\n",
      "content_input (InputLayer)      [(None, 1556)]       0                                            \n",
      "__________________________________________________________________________________________________\n",
      "embed_title (Embedding)         (None, 14, 300)      15000000    title_input[0][0]                \n",
      "__________________________________________________________________________________________________\n",
      "embed_content (Embedding)       (None, 1556, 300)    15000000    content_input[0][0]              \n",
      "__________________________________________________________________________________________________\n",
      "Conv1Title (Conv1D)             (None, 6, 5)         6005        embed_title[0][0]                \n",
      "__________________________________________________________________________________________________\n",
      "Conv2Content (Conv1D)           (None, 386, 80)      384080      embed_content[0][0]              \n",
      "__________________________________________________________________________________________________\n",
      "Pool1Title (MaxPooling1D)       (None, 3, 5)         0           Conv1Title[0][0]                 \n",
      "__________________________________________________________________________________________________\n",
      "Pool2Content (MaxPooling1D)     (None, 96, 80)       0           Conv2Content[0][0]               \n",
      "__________________________________________________________________________________________________\n",
      "flatten (Flatten)               (None, 15)           0           Pool1Title[0][0]                 \n",
      "__________________________________________________________________________________________________\n",
      "flatten_1 (Flatten)             (None, 7680)         0           Pool2Content[0][0]               \n",
      "__________________________________________________________________________________________________\n",
      "Dense1Title (Dense)             (None, 50)           800         flatten[0][0]                    \n",
      "__________________________________________________________________________________________________\n",
      "Dense1Content (Dense)           (None, 100)          768100      flatten_1[0][0]                  \n",
      "__________________________________________________________________________________________________\n",
      "concatenate (Concatenate)       (None, 150)          0           Dense1Title[0][0]                \n",
      "                                                                 Dense1Content[0][0]              \n",
      "__________________________________________________________________________________________________\n",
      "dense (Dense)                   (None, 50)           7550        concatenate[0][0]                \n",
      "__________________________________________________________________________________________________\n",
      "dropout (Dropout)               (None, 50)           0           dense[0][0]                      \n",
      "__________________________________________________________________________________________________\n",
      "dense_1 (Dense)                 (None, 50)           2550        dropout[0][0]                    \n",
      "__________________________________________________________________________________________________\n",
      "dropout_1 (Dropout)             (None, 50)           0           dense_1[0][0]                    \n",
      "__________________________________________________________________________________________________\n",
      "dense_2 (Dense)                 (None, 4)            204         dropout_1[0][0]                  \n",
      "==================================================================================================\n",
      "Total params: 31,169,289\n",
      "Trainable params: 1,169,289\n",
      "Non-trainable params: 30,000,000\n",
      "__________________________________________________________________________________________________\n"
     ]
    }
   ],
   "source": [
    "#input_title\n",
    "title_input = k.layers.Input(shape=(len_title,), name='title_input')\n",
    "inp = k.layers.Embedding(output_dim=300, input_dim=50000, \n",
    "                         weights=[embed_mat], trainable=False, name='embed_title')(title_input)\n",
    "\n",
    "x = k.layers.Conv1D(filters = 5, kernel_size=4, strides=2, activation='relu', name='Conv1Title')(inp)\n",
    "x = k.layers.MaxPool1D(pool_size = 2, name='Pool1Title')(x)\n",
    "x = k.layers.Flatten()(x)\n",
    "x = k.layers.Dense(50, activation='relu', name='Dense1Title', kernel_regularizer='l2')(x)\n",
    "\n",
    "#input_content\n",
    "content_input = k.layers.Input(shape=(len_content,), name='content_input')\n",
    "inp2 = k.layers.Embedding(output_dim=300, input_dim=50000, \n",
    "                         weights=[embed_mat], trainable=False, name='embed_content')(content_input)\n",
    "x2 = k.layers.Conv1D(filters = 40, kernel_size = 16, strides = 2, activation='relu', name='Conv1Content')(inp2)\n",
    "x2 = k.layers.MaxPool1D(pool_size = 4, name='Pool1Content')(x2)\n",
    "\n",
    "#Added\n",
    "x2 = k.layers.Conv1D(filters = 80, kernel_size = 16, strides = 4, activation='relu', name='Conv2Content')(inp2)\n",
    "x2 = k.layers.MaxPool1D(pool_size = 4, name='Pool2Content')(x2)\n",
    "#\n",
    "\n",
    "x2 = k.layers.Flatten()(x2)\n",
    "x2 = k.layers.Dense(100, activation='relu', kernel_regularizer='l2', name='Dense1Content')(x2)\n",
    "\n",
    "\n",
    "#Merge\n",
    "x = k.layers.concatenate([x, x2])\n",
    "\n",
    "#Common part\n",
    "x = k.layers.Dense(50, activation='relu')(x)\n",
    "x = k.layers.Dropout(0.2)(x)\n",
    "x = k.layers.Dense(50, activation='relu')(x)\n",
    "x = k.layers.Dropout(0.2)(x)\n",
    "out = k.layers.Dense(4, activation='softmax')(x)\n",
    "\n",
    "\n",
    "#Build model\n",
    "model = k.models.Model(inputs=[title_input, content_input], outputs=[out])\n",
    "\n",
    "#model.compile(k.optimizers.Adam(lr=0.0001), loss='categorical_crossentropy', metrics=['acc'])\n",
    "#model.compile(k.optimizers.SGD(lr=0.1, momentum = 0.1), loss='categorical_crossentropy', metrics=['acc'])\n",
    "model.compile(k.optimizers.RMSprop(), loss='categorical_crossentropy', metrics=['acc'])\n",
    "\n",
    "model.summary()"
   ]
  },
  {
   "cell_type": "code",
   "execution_count": 18,
   "metadata": {
    "colab": {
     "base_uri": "https://localhost:8080/",
     "height": 250
    },
    "colab_type": "code",
    "id": "gOhBW9oiCDiU",
    "outputId": "06f1bddf-23e2-4f4f-db0d-305781e740e7"
   },
   "outputs": [
    {
     "name": "stdout",
     "output_type": "stream",
     "text": [
      "Epoch 1/20\n",
      "740/740 [==============================] - 325s 439ms/step - loss: 0.6522 - acc: 0.7782 - val_loss: 0.4796 - val_acc: 0.8371\n",
      "Epoch 2/20\n",
      "740/740 [==============================] - 325s 439ms/step - loss: 0.4391 - acc: 0.8607 - val_loss: 0.4567 - val_acc: 0.8495\n",
      "Epoch 3/20\n",
      "740/740 [==============================] - 332s 448ms/step - loss: 0.3522 - acc: 0.8973 - val_loss: 0.4510 - val_acc: 0.8549\n",
      "Epoch 4/20\n",
      "740/740 [==============================] - 349s 472ms/step - loss: 0.2795 - acc: 0.9235 - val_loss: 0.4868 - val_acc: 0.8497\n"
     ]
    }
   ],
   "source": [
    "hist = model.fit(x=train_fit, y=np.asarray(y_train.tolist()), batch_size=128, epochs=20,\n",
    "          callbacks = [k.callbacks.EarlyStopping(monitor='val_loss', patience=3, min_delta = 0.1)], validation_data=(valid_fit, np.array(y_valid.tolist())))"
   ]
  },
  {
   "cell_type": "code",
   "execution_count": 19,
   "metadata": {
    "colab": {
     "base_uri": "https://localhost:8080/",
     "height": 391
    },
    "colab_type": "code",
    "id": "KAjg4jSCGWqU",
    "outputId": "ab3bfcc3-22dc-4da7-a7a3-f12f70b98089"
   },
   "outputs": [
    {
     "data": {
      "text/plain": [
       "<matplotlib.legend.Legend at 0x18c12f32760>"
      ]
     },
     "execution_count": 19,
     "metadata": {},
     "output_type": "execute_result"
    },
    {
     "data": {
      "image/png": "[encoded data removed]",
      "text/plain": [
       "<Figure size 1152x432 with 1 Axes>"
      ]
     },
     "metadata": {},
     "output_type": "display_data"
    }
   ],
   "source": [
    "plt.figure(figsize=(16,6))\n",
    "plt.plot(hist.history['val_acc'], label='val_acc')\n",
    "plt.plot(hist.history['acc'], label='train_acc')\n",
    "plt.legend()"
   ]
  },
  {
   "cell_type": "code",
   "execution_count": 20,
   "metadata": {
    "colab": {
     "base_uri": "https://localhost:8080/",
     "height": 391
    },
    "colab_type": "code",
    "id": "hTY9LsukoY0C",
    "outputId": "ed440a6b-c4a5-476a-9de8-11a523811f8f"
   },
   "outputs": [
    {
     "data": {
      "text/plain": [
       "<matplotlib.legend.Legend at 0x18c13151fd0>"
      ]
     },
     "execution_count": 20,
     "metadata": {},
     "output_type": "execute_result"
    },
    {
     "data": {
      "image/png": "[encoded data removed]",
      "text/plain": [
       "<Figure size 1152x432 with 1 Axes>"
      ]
     },
     "metadata": {},
     "output_type": "display_data"
    }
   ],
   "source": [
    "plt.figure(figsize=(16,6))\n",
    "plt.plot(hist.history['val_loss'], label='val_loss')\n",
    "plt.plot(hist.history['loss'], label='train_loss')\n",
    "plt.legend()"
   ]
  },
  {
   "cell_type": "code",
   "execution_count": 21,
   "metadata": {
    "colab": {
     "base_uri": "https://localhost:8080/",
     "height": 34
    },
    "colab_type": "code",
    "id": "11xe1CLSRM3l",
    "outputId": "f466e4fc-798d-4f2b-9f63-1d0222c3ae12"
   },
   "outputs": [
    {
     "data": {
      "text/plain": [
       "0.828421052631579"
      ]
     },
     "execution_count": 21,
     "metadata": {},
     "output_type": "execute_result"
    }
   ],
   "source": [
    "test_pred = model.predict(test_fit)\n",
    "accuracy_score(np.array(y_test.tolist()), test_pred.round())"
   ]
  },
  {
   "cell_type": "code",
   "execution_count": 22,
   "metadata": {
    "colab": {
     "base_uri": "https://localhost:8080/",
     "height": 285
    },
    "colab_type": "code",
    "id": "69Oqol9Jofab",
    "outputId": "13c81170-82c3-48be-9611-b01d9db1977d"
   },
   "outputs": [
    {
     "name": "stdout",
     "output_type": "stream",
     "text": [
      "              precision    recall  f1-score   support\n",
      "\n",
      "           0       0.77      0.83      0.80     13475\n",
      "           1       0.92      0.86      0.89     14955\n",
      "           2       0.93      0.89      0.91     14661\n",
      "           3       0.92      0.74      0.82     14859\n",
      "\n",
      "   micro avg       0.88      0.83      0.85     57950\n",
      "   macro avg       0.89      0.83      0.85     57950\n",
      "weighted avg       0.89      0.83      0.85     57950\n",
      " samples avg       0.83      0.83      0.83     57950\n",
      "\n"
     ]
    },
    {
     "name": "stderr",
     "output_type": "stream",
     "text": [
      "C:\\anaconda3\\envs\\tf-gpu\\lib\\site-packages\\sklearn\\metrics\\_classification.py:1245: UndefinedMetricWarning: Precision and F-score are ill-defined and being set to 0.0 in samples with no predicted labels. Use `zero_division` parameter to control this behavior.\n",
      "  _warn_prf(average, modifier, msg_start, len(result))\n"
     ]
    }
   ],
   "source": [
    "report = classification_report(np.array(y_test.tolist()), test_pred.round())\n",
    "print(report)"
   ]
  },
  {
   "cell_type": "code",
   "execution_count": 23,
   "metadata": {
    "colab": {
     "base_uri": "https://localhost:8080/",
     "height": 435
    },
    "colab_type": "code",
    "id": "2fIA4U81z7Bi",
    "outputId": "bec2d4b6-9b2e-47f3-de56-5386af9388a3"
   },
   "outputs": [
    {
     "name": "stdout",
     "output_type": "stream",
     "text": [
      "[[12123   399   424   529]\n",
      " [ 1669 12802   203   281]\n",
      " [ 1345   143 12998   175]\n",
      " [ 2987   601   312 10959]]\n"
     ]
    },
    {
     "data": {
      "text/plain": [
       "<AxesSubplot:>"
      ]
     },
     "execution_count": 23,
     "metadata": {},
     "output_type": "execute_result"
    },
    {
     "data": {
      "image/png": "[encoded data removed]",
      "text/plain": [
       "<Figure size 576x396 with 2 Axes>"
      ]
     },
     "metadata": {},
     "output_type": "display_data"
    }
   ],
   "source": [
    "matrix = confusion_matrix(np.array(y_test.tolist()).argmax(axis=1), test_pred.round().argmax(axis=1))\n",
    "print(matrix)\n",
    "\n",
    "#Plot\n",
    "df_cm = pd.DataFrame(matrix, columns=['bias', 'click', 'fake', 'truth'], index=['bias', 'click', 'fake', 'truth'])\n",
    "sns.heatmap(df_cm, annot=True)"
   ]
  },
  {
   "cell_type": "code",
   "execution_count": 24,
   "metadata": {
    "colab": {},
    "colab_type": "code",
    "id": "QrSoUtQnoyqT"
   },
   "outputs": [],
   "source": [
    "CONV_PATH = '../weights/conv.h5'\n",
    "model.save(CONV_PATH)"
   ]
  }
 ],
 "metadata": {
  "accelerator": "TPU",
  "colab": {
   "collapsed_sections": [
    "M1RK9vtpBVGd",
    "OMApMHOldZty"
   ],
   "name": "Train_Google_Colab.ipynb",
   "provenance": [],
   "version": "0.3.2"
  },
  "kernelspec": {
   "display_name": "Python 3",
   "language": "python",
   "name": "python3"
  },
  "language_info": {
   "codemirror_mode": {
    "name": "ipython",
    "version": 3
   },
   "file_extension": ".py",
   "mimetype": "text/x-python",
   "name": "python",
   "nbconvert_exporter": "python",
   "pygments_lexer": "ipython3",
   "version": "3.8.8"
  }
 },
 "nbformat": 4,
 "nbformat_minor": 1
}
