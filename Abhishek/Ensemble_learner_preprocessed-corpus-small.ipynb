{
 "cells": [
  {
   "cell_type": "code",
   "execution_count": 1,
   "metadata": {},
   "outputs": [],
   "source": [
    "import pandas as pd\n",
    "import sklearn\n",
    "import numpy as np\n",
    "import matplotlib.pyplot as plt\n",
    "from sklearn.metrics import classification_report,confusion_matrix\n",
    "from sklearn.metrics import accuracy_score, f1_score, precision_score, recall_score\n",
    "import itertools\n",
    "\n",
    "import nltk\n",
    "from nltk.corpus import stopwords\n",
    "from nltk.stem.porter import PorterStemmer\n",
    "import re\n",
    "\n",
    "from sklearn.svm import LinearSVC\n",
    "from sklearn.ensemble import BaggingClassifier, AdaBoostClassifier, VotingClassifier\n",
    "from sklearn.naive_bayes import MultinomialNB\n",
    "from sklearn.pipeline import Pipeline\n",
    "from sklearn.linear_model import SGDClassifier, LogisticRegression, PassiveAggressiveClassifier\n",
    "from sklearn.tree import DecisionTreeClassifier\n",
    "\n",
    "from sklearn.feature_extraction.text import TfidfVectorizer\n",
    "from sklearn import metrics\n",
    "from pickle import dump, load\n",
    "\n",
    "FILE_LOCATION = '../../Datasets/Combined_Dataset/combined_kaggle_corpus-20000.csv'"
   ]
  },
  {
   "cell_type": "code",
   "execution_count": 2,
   "metadata": {},
   "outputs": [
    {
     "data": {
      "text/plain": [
       "(23973, 6)"
      ]
     },
     "execution_count": 2,
     "metadata": {},
     "output_type": "execute_result"
    }
   ],
   "source": [
    "# csv_iter = pd.read_csv(FILE_LOCATION, engine='python', iterator=True, chunksize=100, dtype={'label': str, 'content': str})\n",
    "\n",
    "# for chunk in csv_iter:\n",
    "#     df = chunk\n",
    "#     break\n",
    "\n",
    "df = pd.read_csv(FILE_LOCATION, dtype={'label': str, 'content': str})\n",
    "df.shape"
   ]
  },
  {
   "cell_type": "markdown",
   "metadata": {},
   "source": [
    "# Data preprocessing"
   ]
  },
  {
   "cell_type": "code",
   "execution_count": 3,
   "metadata": {},
   "outputs": [
    {
     "data": {
      "text/plain": [
       "Unnamed: 0     int64\n",
       "url           object\n",
       "domain        object\n",
       "title         object\n",
       "content       string\n",
       "label         object\n",
       "dtype: object"
      ]
     },
     "execution_count": 3,
     "metadata": {},
     "output_type": "execute_result"
    }
   ],
   "source": [
    "# ## Applying TFidf Vectorizer\n",
    "# # tfidf_v=TfidfVectorizer(max_features=5000,ngram_range=(1,3))\n",
    "# # X=tfidf_v.fit_transform(corpus).toarray()\n",
    "# df ['domain'] = pd.to_numeric(df['domain'], errors='coerce')\n",
    "# df ['title'] = pd.to_numeric(df['title'], errors='coerce')\n",
    "# df ['content'] = pd.to_numeric(df['content'], errors='coerce')\n",
    "# df ['url'] = pd.to_numeric(df['url'], errors='coerce')\n",
    "# # df = df.dropna()\n",
    "# df = df.replace(np.nan, 0, regex=True)\n",
    "# # df.reset_index(inplace=True)\n",
    "\n",
    "df = df.dropna()\n",
    "df.reset_index(drop=True, inplace=True)\n",
    "df = df.replace(to_replace='None', value=np.nan).dropna()\n",
    "df['content'] = df['content'].astype('string')\n",
    "df.dtypes"
   ]
  },
  {
   "cell_type": "code",
   "execution_count": 4,
   "metadata": {},
   "outputs": [
    {
     "data": {
      "text/html": [
       "<div>\n",
       "<style scoped>\n",
       "    .dataframe tbody tr th:only-of-type {\n",
       "        vertical-align: middle;\n",
       "    }\n",
       "\n",
       "    .dataframe tbody tr th {\n",
       "        vertical-align: top;\n",
       "    }\n",
       "\n",
       "    .dataframe thead th {\n",
       "        text-align: right;\n",
       "    }\n",
       "</style>\n",
       "<table border=\"1\" class=\"dataframe\">\n",
       "  <thead>\n",
       "    <tr style=\"text-align: right;\">\n",
       "      <th></th>\n",
       "      <th>Unnamed: 0</th>\n",
       "      <th>url</th>\n",
       "      <th>domain</th>\n",
       "      <th>title</th>\n",
       "      <th>content</th>\n",
       "      <th>label</th>\n",
       "    </tr>\n",
       "  </thead>\n",
       "  <tbody>\n",
       "    <tr>\n",
       "      <th>0</th>\n",
       "      <td>0</td>\n",
       "      <td>https://blackagendareport.com/un-backed-police...</td>\n",
       "      <td>blackagendareport.com</td>\n",
       "      <td>UN polic massacr haitian with impun</td>\n",
       "      <td>UN polic massacr haitian with impun â polic fi...</td>\n",
       "      <td>fake</td>\n",
       "    </tr>\n",
       "    <tr>\n",
       "      <th>1</th>\n",
       "      <td>1</td>\n",
       "      <td>https://blackagendareport.com/articlelist/inte...</td>\n",
       "      <td>blackagendareport.com</td>\n",
       "      <td>black agenda report</td>\n",
       "      <td>It come surpris â US support war libya sell bl...</td>\n",
       "      <td>fake</td>\n",
       "    </tr>\n",
       "    <tr>\n",
       "      <th>2</th>\n",
       "      <td>2</td>\n",
       "      <td>https://blackagendareport.com/articlelist/inte...</td>\n",
       "      <td>blackagendareport.com</td>\n",
       "      <td>black agenda report</td>\n",
       "      <td>â polic final left campu around nine civilian ...</td>\n",
       "      <td>fake</td>\n",
       "    </tr>\n",
       "    <tr>\n",
       "      <th>3</th>\n",
       "      <td>3</td>\n",
       "      <td>https://blackagendareport.com/zambia-must-clar...</td>\n",
       "      <td>blackagendareport.com</td>\n",
       "      <td>zambia must clarifi whether It will host israe...</td>\n",
       "      <td>zambia must clarifi whether It will host israe...</td>\n",
       "      <td>fake</td>\n",
       "    </tr>\n",
       "    <tr>\n",
       "      <th>4</th>\n",
       "      <td>4</td>\n",
       "      <td>http://awm.com/woman-waves-hand-in-front-of-li...</td>\n",
       "      <td>awm.com</td>\n",
       "      <td>woman wave hand In front Of lizardâ tank captu...</td>\n",
       "      <td>most peopleâ pet member famili case dog cat lo...</td>\n",
       "      <td>fake</td>\n",
       "    </tr>\n",
       "  </tbody>\n",
       "</table>\n",
       "</div>"
      ],
      "text/plain": [
       "   Unnamed: 0                                                url  \\\n",
       "0           0  https://blackagendareport.com/un-backed-police...   \n",
       "1           1  https://blackagendareport.com/articlelist/inte...   \n",
       "2           2  https://blackagendareport.com/articlelist/inte...   \n",
       "3           3  https://blackagendareport.com/zambia-must-clar...   \n",
       "4           4  http://awm.com/woman-waves-hand-in-front-of-li...   \n",
       "\n",
       "                  domain                                              title  \\\n",
       "0  blackagendareport.com                UN polic massacr haitian with impun   \n",
       "1  blackagendareport.com                                black agenda report   \n",
       "2  blackagendareport.com                                black agenda report   \n",
       "3  blackagendareport.com  zambia must clarifi whether It will host israe...   \n",
       "4                awm.com  woman wave hand In front Of lizardâ tank captu...   \n",
       "\n",
       "                                             content label  \n",
       "0  UN polic massacr haitian with impun â polic fi...  fake  \n",
       "1  It come surpris â US support war libya sell bl...  fake  \n",
       "2  â polic final left campu around nine civilian ...  fake  \n",
       "3  zambia must clarifi whether It will host israe...  fake  \n",
       "4  most peopleâ pet member famili case dog cat lo...  fake  "
      ]
     },
     "execution_count": 4,
     "metadata": {},
     "output_type": "execute_result"
    }
   ],
   "source": [
    "df.head()"
   ]
  },
  {
   "cell_type": "code",
   "execution_count": 5,
   "metadata": {},
   "outputs": [
    {
     "data": {
      "text/plain": [
       "0    UN polic massacr haitian with impun â polic fi...\n",
       "1    It come surpris â US support war libya sell bl...\n",
       "2    â polic final left campu around nine civilian ...\n",
       "3    zambia must clarifi whether It will host israe...\n",
       "4    most peopleâ pet member famili case dog cat lo...\n",
       "Name: content, dtype: string"
      ]
     },
     "execution_count": 5,
     "metadata": {},
     "output_type": "execute_result"
    }
   ],
   "source": [
    "X = df['content']\n",
    "X.head()"
   ]
  },
  {
   "cell_type": "code",
   "execution_count": 6,
   "metadata": {},
   "outputs": [
    {
     "data": {
      "text/plain": [
       "0    fake\n",
       "1    fake\n",
       "2    fake\n",
       "3    fake\n",
       "4    fake\n",
       "Name: label, dtype: object"
      ]
     },
     "execution_count": 6,
     "metadata": {},
     "output_type": "execute_result"
    }
   ],
   "source": [
    "Y = df['label']\n",
    "Y.head()"
   ]
  },
  {
   "cell_type": "code",
   "execution_count": 7,
   "metadata": {},
   "outputs": [],
   "source": [
    "tfidf_v=TfidfVectorizer(max_features=5000,ngram_range=(1,4))\n",
    "X = tfidf_v.fit_transform(X).toarray()"
   ]
  },
  {
   "cell_type": "code",
   "execution_count": 8,
   "metadata": {},
   "outputs": [],
   "source": [
    "## Divide the dataset into Train and Test\n",
    "from sklearn.model_selection import train_test_split\n",
    "X_train, X_test, Y_train, Y_test = train_test_split(X, Y, test_size=0.3, random_state=0)"
   ]
  },
  {
   "cell_type": "markdown",
   "metadata": {},
   "source": [
    "# VotingClassifier"
   ]
  },
  {
   "cell_type": "code",
   "execution_count": 12,
   "metadata": {},
   "outputs": [],
   "source": [
    "svm = SGDClassifier(loss='hinge', alpha=1e-3, penalty='l2',random_state=42)\n",
    "svc = LinearSVC()\n",
    "lr = LogisticRegression()\n",
    "clf = PassiveAggressiveClassifier(n_iter_no_change=50)\n",
    "dt = DecisionTreeClassifier()"
   ]
  },
  {
   "cell_type": "code",
   "execution_count": 13,
   "metadata": {},
   "outputs": [
    {
     "data": {
      "text/plain": [
       "VotingClassifier(estimators=[('svm',\n",
       "                              SGDClassifier(alpha=0.001, random_state=42)),\n",
       "                             ('svc', LinearSVC()), ('lr', LogisticRegression()),\n",
       "                             ('clf',\n",
       "                              PassiveAggressiveClassifier(n_iter_no_change=50)),\n",
       "                             ('dt', DecisionTreeClassifier())])"
      ]
     },
     "execution_count": 13,
     "metadata": {},
     "output_type": "execute_result"
    }
   ],
   "source": [
    "evc = VotingClassifier(estimators = [('svm',svm),('svc',svc),('lr',lr),('clf',clf),('dt',dt)], voting='hard')\n",
    "evc.fit(X_train, Y_train)"
   ]
  },
  {
   "cell_type": "code",
   "execution_count": 14,
   "metadata": {},
   "outputs": [
    {
     "name": "stdout",
     "output_type": "stream",
     "text": [
      "0.9616080122409236\n",
      "0.9974365088827948\n"
     ]
    }
   ],
   "source": [
    "print(evc.score(X_test, Y_test))\n",
    "print(evc.score(X_train, Y_train))"
   ]
  },
  {
   "cell_type": "code",
   "execution_count": 15,
   "metadata": {},
   "outputs": [],
   "source": [
    "dump(evc, open('votingclassifier_small.sav', 'wb'))"
   ]
  },
  {
   "cell_type": "markdown",
   "metadata": {},
   "source": []
  },
  {
   "cell_type": "code",
   "execution_count": null,
   "metadata": {},
   "outputs": [],
   "source": []
  },
  {
   "cell_type": "code",
   "execution_count": null,
   "metadata": {},
   "outputs": [],
   "source": []
  }
 ],
 "metadata": {
  "kernelspec": {
   "display_name": "Python 3",
   "language": "python",
   "name": "python3"
  },
  "language_info": {
   "codemirror_mode": {
    "name": "ipython",
    "version": 3
   },
   "file_extension": ".py",
   "mimetype": "text/x-python",
   "name": "python",
   "nbconvert_exporter": "python",
   "pygments_lexer": "ipython3",
   "version": "3.8.5"
  }
 },
 "nbformat": 4,
 "nbformat_minor": 4
}
